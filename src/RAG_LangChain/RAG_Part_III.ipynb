{
 "cells": [
  {
   "cell_type": "markdown",
   "id": "441ac304",
   "metadata": {},
   "source": [
    "# Expert Knowledge Assistant\n",
    "\n",
    "### A question-answering system designed to serve as a highly capable knowledge worker. Built for employees at Insurellm, an Insurance Technology company. Prioritizes accuracy while maintaining a cost-effective implementation\n",
    "\n",
    "This project leverages Retrieval-Augmented Generation (RAG) to deliver precise answers and reliable performance.\n"
   ]
  },
  {
   "cell_type": "code",
   "execution_count": 2,
   "id": "9b1ed6d0",
   "metadata": {},
   "outputs": [],
   "source": [
    "# imports\n",
    "\n",
    "import os\n",
    "import glob\n",
    "from dotenv import load_dotenv\n",
    "import gradio as gr"
   ]
  },
  {
   "cell_type": "code",
   "execution_count": 7,
   "id": "c8d5ee03",
   "metadata": {},
   "outputs": [],
   "source": [
    "# imports for langchain and Chroma and plotly\n",
    "\n",
    "from langchain.document_loaders import DirectoryLoader, TextLoader\n",
    "from langchain.text_splitter import CharacterTextSplitter\n",
    "from langchain.schema import Document\n",
    "from langchain_openai import OpenAIEmbeddings, ChatOpenAI\n",
    "from langchain_community.vectorstores import Chroma\n",
    "import numpy as np\n",
    "from sklearn.manifold import TSNE\n",
    "import plotly.graph_objects as go"
   ]
  },
  {
   "cell_type": "code",
   "execution_count": null,
   "id": "79897cf9",
   "metadata": {},
   "outputs": [],
   "source": [
    "# Low cost model\n",
    "\n",
    "MODEL = \"gpt-4o-mini\"\n",
    "db_name = \"vector_db\""
   ]
  },
  {
   "cell_type": "code",
   "execution_count": 9,
   "id": "701b34bc",
   "metadata": {},
   "outputs": [],
   "source": [
    "# Load environment variables\n",
    "\n",
    "load_dotenv(override=True)\n",
    "os.environ['OPENAI_API_KEY'] = os.getenv('OPENAI_API_KEY')"
   ]
  },
  {
   "cell_type": "code",
   "execution_count": 10,
   "id": "8c2ac808",
   "metadata": {},
   "outputs": [],
   "source": [
    "# Load all markdown files from subfolders in \"knowledge-base\" and tag each with its folder name\n",
    "\n",
    "folders = glob.glob(\"knowledge-base/*\")\n",
    "text_loader_kwargs = {'encoding': 'utf-8'}\n",
    "# text_loader_kwargs={'autodetect_encoding': True}\n",
    "\n",
    "documents = []\n",
    "for folder in folders:\n",
    "    doc_type = os.path.basename(folder)\n",
    "    loader = DirectoryLoader(folder, glob=\"**/*.md\", loader_cls=TextLoader, loader_kwargs=text_loader_kwargs)\n",
    "    folder_docs = loader.load()\n",
    "    for doc in folder_docs:\n",
    "        doc.metadata[\"doc_type\"] = doc_type\n",
    "        documents.append(doc)"
   ]
  },
  {
   "cell_type": "code",
   "execution_count": 11,
   "id": "7d726cb8",
   "metadata": {},
   "outputs": [
    {
     "name": "stderr",
     "output_type": "stream",
     "text": [
      "Created a chunk of size 1088, which is longer than the specified 1000\n"
     ]
    }
   ],
   "source": [
    "# Split documents into chunks of 1000 characters with 200-character overlap\n",
    "\n",
    "text_splitter = CharacterTextSplitter(chunk_size=1000, chunk_overlap=200)\n",
    "chunks = text_splitter.split_documents(documents)"
   ]
  },
  {
   "cell_type": "code",
   "execution_count": 12,
   "id": "4c4293f7",
   "metadata": {},
   "outputs": [
    {
     "data": {
      "text/plain": [
       "123"
      ]
     },
     "execution_count": 12,
     "metadata": {},
     "output_type": "execute_result"
    }
   ],
   "source": [
    "len(chunks)"
   ]
  },
  {
   "cell_type": "code",
   "execution_count": 13,
   "id": "da54b109",
   "metadata": {},
   "outputs": [
    {
     "name": "stdout",
     "output_type": "stream",
     "text": [
      "Document types found: contracts, company, products, employees\n"
     ]
    }
   ],
   "source": [
    "# Print unique document types found in the chunks\n",
    "\n",
    "doc_types = set(chunk.metadata['doc_type'] for chunk in chunks)\n",
    "print(f\"Document types found: {', '.join(doc_types)}\")"
   ]
  },
  {
   "cell_type": "markdown",
   "id": "38f5b871",
   "metadata": {},
   "source": [
    "## Embeddings and \"Auto-Encoding LLMs\"\n",
    "\n",
    "In this step, I’ll be converting each chunk of text into a vector that captures its meaning — embedding.\n",
    "\n",
    "To do this, I’m using OpenAI’s embedding model via their API, integrated through LangChain. This particular model falls under the category of \"Auto-Encoding LLMs\" — meaning it processes the entire input to produce an output all at once.\n"
   ]
  },
  {
   "cell_type": "code",
   "execution_count": 14,
   "id": "3a640169",
   "metadata": {},
   "outputs": [],
   "source": [
    "# Initialize OpenAI's embedding model\n",
    "\n",
    "embeddings = OpenAIEmbeddings()"
   ]
  },
  {
   "cell_type": "code",
   "execution_count": 15,
   "id": "f748151a",
   "metadata": {},
   "outputs": [],
   "source": [
    "# Delete existing Chroma collection if the database directory already exists\n",
    "\n",
    "if os.path.exists(db_name):\n",
    "    Chroma(persist_directory=db_name, embedding_function=embeddings).delete_collection()"
   ]
  },
  {
   "cell_type": "code",
   "execution_count": 16,
   "id": "85aa61f0",
   "metadata": {},
   "outputs": [
    {
     "name": "stdout",
     "output_type": "stream",
     "text": [
      "Vectorstore created with 123 documents\n"
     ]
    }
   ],
   "source": [
    "# Create a Chroma vectorstore from the document chunks and print the total count\n",
    "\n",
    "vectorstore = Chroma.from_documents(documents=chunks, embedding=embeddings, persist_directory=db_name)\n",
    "print(f\"Vectorstore created with {vectorstore._collection.count()} documents\")"
   ]
  },
  {
   "cell_type": "code",
   "execution_count": 17,
   "id": "f790fe21",
   "metadata": {},
   "outputs": [
    {
     "name": "stdout",
     "output_type": "stream",
     "text": [
      "The vectors have 1,536 dimensions\n"
     ]
    }
   ],
   "source": [
    "# Get the dimensionality of the stored embedding vectors\n",
    "\n",
    "collection = vectorstore._collection\n",
    "sample_embedding = collection.get(limit=1, include=[\"embeddings\"])[\"embeddings\"][0]\n",
    "dimensions = len(sample_embedding)\n",
    "print(f\"The vectors have {dimensions:,} dimensions\")"
   ]
  },
  {
   "cell_type": "markdown",
   "id": "b3414610",
   "metadata": {},
   "source": [
    "## Exploring the Vector Store\n",
    "\n",
    "Taking a moment to inspect the documents and their embeddings to understand how they're represented."
   ]
  },
  {
   "cell_type": "code",
   "execution_count": 18,
   "id": "2a94e8ec",
   "metadata": {},
   "outputs": [],
   "source": [
    "# Retrieve embeddings, documents, and metadata from the collection, then extract doc types and assign colors for visualization\n",
    "\n",
    "result = collection.get(include=['embeddings', 'documents', 'metadatas'])\n",
    "vectors = np.array(result['embeddings'])\n",
    "documents = result['documents']\n",
    "doc_types = [metadata['doc_type'] for metadata in result['metadatas']]\n",
    "colors = [['blue', 'green', 'red', 'orange'][['products', 'employees', 'contracts', 'company'].index(t)] for t in doc_types]"
   ]
  },
  {
   "cell_type": "code",
   "execution_count": 26,
   "id": "701a422a",
   "metadata": {},
   "outputs": [
    {
     "data": {
      "application/vnd.plotly.v1+json": {
       "config": {
        "plotlyServerURL": "https://plot.ly"
       },
       "data": [
        {
         "hoverinfo": "text",
         "marker": {
          "color": [
           "orange",
           "orange",
           "orange",
           "red",
           "red",
           "red",
           "red",
           "red",
           "red",
           "red",
           "red",
           "red",
           "red",
           "red",
           "red",
           "red",
           "red",
           "red",
           "red",
           "red",
           "red",
           "red",
           "red",
           "red",
           "red",
           "red",
           "red",
           "red",
           "red",
           "red",
           "red",
           "red",
           "red",
           "red",
           "red",
           "red",
           "red",
           "red",
           "red",
           "red",
           "red",
           "red",
           "red",
           "red",
           "red",
           "red",
           "red",
           "red",
           "red",
           "red",
           "red",
           "red",
           "red",
           "red",
           "red",
           "green",
           "green",
           "green",
           "green",
           "green",
           "green",
           "green",
           "green",
           "green",
           "green",
           "green",
           "green",
           "green",
           "green",
           "green",
           "green",
           "green",
           "green",
           "green",
           "green",
           "green",
           "green",
           "green",
           "green",
           "green",
           "green",
           "green",
           "green",
           "green",
           "green",
           "green",
           "green",
           "green",
           "green",
           "green",
           "green",
           "green",
           "green",
           "green",
           "green",
           "green",
           "green",
           "green",
           "green",
           "green",
           "green",
           "green",
           "blue",
           "blue",
           "blue",
           "blue",
           "blue",
           "blue",
           "blue",
           "blue",
           "blue",
           "blue",
           "blue",
           "blue",
           "blue",
           "blue",
           "blue",
           "blue",
           "blue",
           "blue",
           "blue",
           "blue",
           "blue"
          ],
          "line": {
           "color": "black",
           "width": 0.5
          },
          "opacity": 0.85,
          "size": 7
         },
         "mode": "markers",
         "text": [
          "<b>Type:</b> company<br><b>Preview:</b> # About Insurellm\n\nInsurellm was founded by Avery Lancaster in 2015 as an insurance tech startup designed to disrupt an industry in need of innovative products. It's first product was Markellm, the ma...",
          "<b>Type:</b> company<br><b>Preview:</b> # Careers at Insurellm\n\nInsurellm is hiring! We are looking for talented software engineers, data scientists and account executives to join our growing team. Come be a part of our movement to disrupt ...",
          "<b>Type:</b> company<br><b>Preview:</b> # Overview of Insurellm\n\nInsurellm is an innovative insurance tech firm with 200 employees across the US.\nInsurellm offers 4 insurance software products:\n- Carllm, a portal for auto insurance companie...",
          "<b>Type:</b> contracts<br><b>Preview:</b> # Contract with Apex Reinsurance for Rellm: AI-Powered Enterprise Reinsurance Solution\n\n## Terms\n\n1. **Parties Involved**: This contract (“Agreement”) is entered into between Insurellm, Inc. (“Provide...",
          "<b>Type:</b> contracts<br><b>Preview:</b> ## Renewal\n\n1. **Automatic Renewal**: This Agreement will automatically renew for successive one-year terms unless either party provides a written notice of intent to terminate at least thirty (30) da...",
          "<b>Type:</b> contracts<br><b>Preview:</b> 2. **Seamless Integrations**: The architecture of Rellm allows for easy integration with existing systems used by the Client, including policy management and claims processing.\n\n3. **Customizable Dash...",
          "<b>Type:</b> contracts<br><b>Preview:</b> 1. **Technical Support**: Provider shall offer dedicated technical support to the Client via phone, email, and a ticketing system during business hours (Monday to Friday, 9 AM to 5 PM EST).\n\n2. **Trai...",
          "<b>Type:</b> contracts<br><b>Preview:</b> **Insurellm, Inc.**  \n_____________________________  \nAuthorized Signature   \nDate: ___________________  \n\n**Apex Reinsurance**  \n_____________________________  \nAuthorized Signature  \nDate: _________...",
          "<b>Type:</b> contracts<br><b>Preview:</b> # Contract with Belvedere Insurance for Markellm\n\n## Terms\nThis Contract (\"Agreement\") is made and entered into as of [Date] by and between Insurellm, Inc., a corporation registered in the United Stat...",
          "<b>Type:</b> contracts<br><b>Preview:</b> ## Renewal\n1. **Renewal Terms**: This Agreement may be renewed for additional one-year terms upon mutual written consent of both parties no later than 30 days before the end of the current term.\n2. **...",
          "<b>Type:</b> contracts<br><b>Preview:</b> ## Features\n1. **AI-Powered Matching**: Belvedere Insurance will benefit from Markellm's AI-powered matching, ensuring the best-fit customers are identified and connected.\n2. **Real-Time Quotes**: Acc...",
          "<b>Type:</b> contracts<br><b>Preview:</b> ## Support\n1. **Technical Support**: Technical support will be available from 9 AM to 7 PM EST, Monday through Friday via email and phone.\n2. **Response Times**: Insurellm agrees to respond to all sup...",
          "<b>Type:</b> contracts<br><b>Preview:</b> **Belvedere Insurance**  \nSignature: ______________________  \nName: [Authorized Signatory]  \nTitle: [Title]  \nDate: ______________________  \n\n--- \nThis synthetic contract document outlines a fictional...",
          "<b>Type:</b> contracts<br><b>Preview:</b> # Contract with BrightWay Solutions for Markellm\n\n**Contract Date:** October 5, 2023  \n**Contract ID:** INS-2023-0092\n\n### Terms\nThis contract (“Contract”) is made between Insurellm, a company incorpo...",
          "<b>Type:</b> contracts<br><b>Preview:</b> 3. **Service Level Agreement (SLA):**  \n   Insurellm commits to a 99.9% uptime for the platform with dedicated support response times not exceeding 4 business hours.\n\n### Renewal\n1. **Automatic Renewa...",
          "<b>Type:</b> contracts<br><b>Preview:</b> 2. **Real-Time Quote Availability:**  \n   Consumers sourced via BrightWay Solutions will receive real-time quotes, allowing for a seamless customer experience.\n\n3. **Analytics Dashboard:**  \n   Access...",
          "<b>Type:</b> contracts<br><b>Preview:</b> 3. **Training and Onboarding:**  \n   Insurellm agrees to provide one free training session on how to utilize the Markellm platform effectively for BrightWay Solutions’ team upon contract signing.\n\n###...",
          "<b>Type:</b> contracts<br><b>Preview:</b> # Contract with EverGuard Insurance for Rellm: AI-Powered Enterprise Reinsurance Solution\n\n**Contract Number:** IG-2023-EG  \n**Effective Date:** January 1, 2024  \n**Expiration Date:** December 31, 202...",
          "<b>Type:</b> contracts<br><b>Preview:</b> 4. **Usage Rights**: EverGuard Insurance is granted a non-exclusive, non-transferable license to access and use Rellm for the duration of this contract. Unauthorized sharing or distribution is strictl...",
          "<b>Type:</b> contracts<br><b>Preview:</b> 1. **Core Functionality**: Rellm provides EverGuard Insurance with advanced AI-driven analytics, seamless integrations, and a comprehensive risk assessment module designed to optimize risk management....",
          "<b>Type:</b> contracts<br><b>Preview:</b> 1. **Customer Support**: Insurellm will provide EverGuard Insurance with 24/7 customer support, including live chat, email, and phone assistance for any technical issues or inquiries regarding Rellm.\n...",
          "<b>Type:</b> contracts<br><b>Preview:</b> ---\n\n**Signatures**  \n**For Insurellm**: __________________________  \n**Name**: John Smith  \n**Title**: Chief Operating Officer  \n**Date**: _________________  \n\n**For EverGuard Insurance**: __________...",
          "<b>Type:</b> contracts<br><b>Preview:</b> # Contract with GreenField Holdings for Markellm\n\n**Effective Date:** November 15, 2023  \n**Contract Duration:** 12 months  \n\n## Terms\n1. **Parties to the Agreement**: This contract is entered into be...",
          "<b>Type:</b> contracts<br><b>Preview:</b> ## Renewal\n1. **Automatic Renewal**: This contract will automatically renew for sequential one-year terms unless either party provides a written notice of non-renewal at least 30 days prior to the exp...",
          "<b>Type:</b> contracts<br><b>Preview:</b> ## Features\n1. **AI-Powered Matching**: Access to advanced algorithms that connect GreenField Holdings with tailored insurance leads.\n2. **Real-Time Quotes**: Ability to provide customers with instant...",
          "<b>Type:</b> contracts<br><b>Preview:</b> ## Support\n1. **Customer Support Access**: The Client will have access to dedicated support through phone and email during normal business hours to address any inquiries or technical issues.\n2. **Trai...",
          "<b>Type:</b> contracts<br><b>Preview:</b> **Signatures:**  \n_________________________                           _________________________  \n**[Name], Title**                                   **[Name], Title**  \nInsurellm                     ...",
          "<b>Type:</b> contracts<br><b>Preview:</b> # Contract with Greenstone Insurance for Homellm\n\n---\n\n## Terms\n\n1. **Parties**: This Contract (\"Agreement\") is entered into on this day, [Insert Date], between Insurellm (\"Provider\"), located at [Pro...",
          "<b>Type:</b> contracts<br><b>Preview:</b> 4. **Payment Terms**: \n   - The Customer shall pay an amount of $10,000 per month for the Standard Tier of the Homellm service.\n   - Payments are due within 30 days of invoicing.\n\n5. **Customization**...",
          "<b>Type:</b> contracts<br><b>Preview:</b> ---\n\n## Features\n\n- **AI-Powered Risk Assessment**: Customer will have access to enhanced risk evaluation tools, allowing for personalized underwriting based on real-time data analysis.\n  \n- **Dynamic...",
          "<b>Type:</b> contracts<br><b>Preview:</b> - **Customer Portal**: A dedicated portal will be provided, allowing the Customer's clients to manage their accounts 24/7.\n\n---\n\n## Support\n\n1. **Training**: Provider will offer a comprehensive traini...",
          "<b>Type:</b> contracts<br><b>Preview:</b> ______________________________  \n[Name], [Title]  \nDate: ______________________\n\n**For Greenstone Insurance:**\n\n______________________________  \n[Name], [Title]  \nDate: ______________________\n\n--- \n\n*...",
          "<b>Type:</b> contracts<br><b>Preview:</b> # Contract with GreenValley Insurance for Homellm\n\n**Contract Date:** October 6, 2023  \n**Contract Number:** HV-2023-0458  \n**Parties:**  \n- Insurellm, Inc.  \n- GreenValley Insurance, LLC  \n\n---\n\n## T...",
          "<b>Type:</b> contracts<br><b>Preview:</b> 4. **Confidentiality:** Both parties agree to maintain the confidentiality of proprietary information disclosed during the execution of this contract.\n\n5. **Liability:** Insurellm's liability under th...",
          "<b>Type:</b> contracts<br><b>Preview:</b> 1. **AI-Powered Risk Assessment:** Access to advanced AI algorithms for real-time risk evaluations.\n   \n2. **Dynamic Pricing Model:** Flexible premium adjustments based on ongoing risk analysis.\n\n3. *...",
          "<b>Type:</b> contracts<br><b>Preview:</b> 3. **Regular Updates:** Insurellm will offer ongoing updates and enhancements to the Homellm platform, including new features and security improvements.\n\n4. **Feedback Implementation:** Insurellm will...",
          "<b>Type:</b> contracts<br><b>Preview:</b> # Contract with Pinnacle Insurance Co. for Homellm\n\n## Terms\nThis contract (\"Contract\") is entered into as of this 1st day of January 2024 (\"Effective Date\") by and between Insurellm (\"Provider\"), a D...",
          "<b>Type:</b> contracts<br><b>Preview:</b> ## Renewal\n1. **Renewal Terms**: At the end of the initial term, this Contract shall automatically renew for additional one-year terms unless either party provides written notice of termination at lea...",
          "<b>Type:</b> contracts<br><b>Preview:</b> ## Features\n1. **AI-Powered Risk Assessment**: Utilized for tailored underwriting decisions specific to individual homeowner policies.\n2. **Dynamic Pricing Model**: Monthly premiums adjusted based on ...",
          "<b>Type:</b> contracts<br><b>Preview:</b> ## Support\n1. **Technical Support**: Insurellm shall provide 24/7 technical support via an email and phone assistance for the duration of this Contract.\n2. **Training**: Insurellm will conduct an onsi...",
          "<b>Type:</b> contracts<br><b>Preview:</b> # Contract with Roadway Insurance Inc. for Carllm\n\n---\n\n## Terms\n\n1. **Agreement Effective Date**: This contract is effective as of January 1, 2025.\n2. **Duration**: This agreement will remain in effe...",
          "<b>Type:</b> contracts<br><b>Preview:</b> ---\n\n## Renewal\n\n1. **Automatic Renewal**: This agreement will automatically renew for an additional 12-month term unless either party provides written notice of non-renewal at least 30 days before th...",
          "<b>Type:</b> contracts<br><b>Preview:</b> ---\n\n## Features\n\n1. **Access to Core Features**: Roadway Insurance Inc. will have access to all Professional Tier features, including:\n   - AI-Powered Risk Assessment\n   - Advanced Analytics & Fraud ...",
          "<b>Type:</b> contracts<br><b>Preview:</b> ---\n\n## Support\n\n1. **Technical Support**: Roadway Insurance Inc. will receive priority technical support from Insurellm for any issues arising from the Carllm product.\n2. **Training**: Insurellm will...",
          "<b>Type:</b> contracts<br><b>Preview:</b> # Contract with Stellar Insurance Co. for Rellm\n\n## Terms\nThis contract is made between **Insurellm**, located at 123 Innovation Lane, San Francisco, CA, and **Stellar Insurance Co.**, located at 456 ...",
          "<b>Type:</b> contracts<br><b>Preview:</b> ### Termination\nEither party may terminate this agreement with a **30-day written notice**. In the event of a material breach, the non-breaching party may terminate immediately, provided a written not...",
          "<b>Type:</b> contracts<br><b>Preview:</b> ## Features\nStellar Insurance Co. will receive access to the following features of the Rellm product:\n\n- **AI-Driven Analytics**: Predictive insights into risk exposures tailored for the reinsurance i...",
          "<b>Type:</b> contracts<br><b>Preview:</b> ## Support\nInsurellm provides Stellar Insurance Co. with the following support services:\n\n- **24/7 Technical Support**: Access to dedicated support representatives via phone and online chat.\n- **Quart...",
          "<b>Type:</b> contracts<br><b>Preview:</b> # Contract with TechDrive Insurance for Carllm\n\n**Contract Date:** October 1, 2024  \n**Contract Duration:** 12 months\n\n---\n\n## Terms\n\n1. **Parties Involved**: This contract is entered into between Ins...",
          "<b>Type:</b> contracts<br><b>Preview:</b> ## Renewal\n\n1. **Automatic Renewal**: This contract shall automatically renew for additional one-year terms unless either party provides written notice of non-renewal at least 30 days prior to the con...",
          "<b>Type:</b> contracts<br><b>Preview:</b> ## Support\n\n1. **Customer Support**: Insurellm will provide 24/7 customer support to TechDrive Insurance via AI-driven chatbots, ensuring timely resolution of inquiries and issues.\n\n2. **Training**: T...",
          "<b>Type:</b> contracts<br><b>Preview:</b> **TechDrive Insurance Representative:**  \nName: Sarah Johnson  \nTitle: Operations Director  \nDate: ____________  \n\nThis contract will serve as the foundational agreement for the ongoing collaboration ...",
          "<b>Type:</b> contracts<br><b>Preview:</b> # Contract with Velocity Auto Solutions for Carllm\n\n**Contract Date:** October 1, 2023  \n**Contract Number:** C-12345-2023  \n**Client:** Velocity Auto Solutions  \n**Product:** Carllm Auto Insurance So...",
          "<b>Type:</b> contracts<br><b>Preview:</b> ## Renewal\n\n1. **Automatic Renewal**: This contract will automatically renew for successive 12-month periods unless either party provides written notice at least 30 days prior to the end of the initia...",
          "<b>Type:</b> contracts<br><b>Preview:</b> ## Support\n\n1. **Customer Support**: Velocity Auto Solutions will have access to Insurellm’s customer support team via email or chatbot, available 24/7.  \n2. **Technical Maintenance**: Regular mainten...",
          "<b>Type:</b> employees<br><b>Preview:</b> # HR Record\n\n# Alex Chen\n\n## Summary\n- **Date of Birth:** March 15, 1990  \n- **Job Title:** Backend Software Engineer  \n- **Location:** San Francisco, California  \n\n## Insurellm Career Progression\n- *...",
          "<b>Type:</b> employees<br><b>Preview:</b> ## Annual Performance History\n- **2020:**  \n  - Completed onboarding successfully.  \n  - Met expectations in delivering project milestones.  \n  - Received positive feedback from the team leads.\n\n- **2...",
          "<b>Type:</b> employees<br><b>Preview:</b> ## Compensation History\n- **2020:** Base Salary: $80,000  \n- **2021:** Base Salary Increase to $90,000; Received a performance bonus of $5,000.  \n- **2022:** Base Salary Increase to $100,000; Performa...",
          "<b>Type:</b> employees<br><b>Preview:</b> Alex Chen continues to be a vital asset at Insurellm, contributing significantly to innovative backend solutions that help shape the future of insurance technology....",
          "<b>Type:</b> employees<br><b>Preview:</b> # HR Record\n\n# Alex Harper\n\n## Summary\n- **Date of Birth**: March 15, 1993  \n- **Job Title**: Sales Development Representative (SDR)  \n- **Location**: Denver, Colorado  \n\n## Insurellm Career Progressi...",
          "<b>Type:</b> employees<br><b>Preview:</b> ## Annual Performance History  \n- **2021**:  \n  - **Performance Rating**: 4.5/5  \n  - **Key Achievements**: Exceeded lead generation targets by 30%. Introduced a new CRM analytics tool resulting in im...",
          "<b>Type:</b> employees<br><b>Preview:</b> - **2022**:  \n  - **Base Salary**: $65,000 (Promotion to Senior SDR)  \n  - **Bonus**: $13,000 (20% of base due to performance)  \n\n- **2023**:  \n  - **Base Salary**: $75,000  \n  - **Bonus**: $15,000 (2...",
          "<b>Type:</b> employees<br><b>Preview:</b> # HR Record\n\n# Alex Thomson\n\n## Summary\n- **Date of Birth:** March 15, 1995  \n- **Job Title:** Sales Development Representative (SDR)  \n- **Location:** Austin, Texas  \n\n## Insurellm Career Progression...",
          "<b>Type:</b> employees<br><b>Preview:</b> ## Annual Performance History  \n- **2022** - Rated as \"Exceeds Expectations.\" Alex Thomson achieved 150% of the sales target within the first three months.  \n- **2023** - Rated \"Outstanding.\" Recogniz...",
          "<b>Type:</b> employees<br><b>Preview:</b> ## Other HR Notes\n- Alex Thomson is an active member of the Diversity and Inclusion committee at Insurellm and has participated in various community outreach programs.  \n- Alex has received external t...",
          "<b>Type:</b> employees<br><b>Preview:</b> # Avery Lancaster\n\n## Summary\n- **Date of Birth**: March 15, 1985  \n- **Job Title**: Co-Founder & Chief Executive Officer (CEO)  \n- **Location**: San Francisco, California  \n\n## Insurellm Career Progr...",
          "<b>Type:</b> employees<br><b>Preview:</b> - **2010 - 2013**: Business Analyst at Edge Analytics  \n  Prior to joining Innovate, Avery worked as a Business Analyst, focusing on market trends and consumer preferences in the insurance space. This...",
          "<b>Type:</b> employees<br><b>Preview:</b> - **2018**: **Exceeds Expectations**  \n  Under Avery’s pivoted vision, Insurellm launched two new successful products that significantly increased market share.  \n\n- **2019**: **Meets Expectations**  ...",
          "<b>Type:</b> employees<br><b>Preview:</b> - **2022**: **Satisfactory**  \n  Avery focused on rebuilding team dynamics and addressing employee concerns, leading to overall improvement despite a saturated market.  \n\n- **2023**: **Exceeds Expecta...",
          "<b>Type:</b> employees<br><b>Preview:</b> ## Compensation History\n- **2015**: $150,000 base salary + Significant equity stake  \n- **2016**: $160,000 base salary + Equity increase  \n- **2017**: $150,000 base salary + Decrease in bonus due to p...",
          "<b>Type:</b> employees<br><b>Preview:</b> ## Other HR Notes\n- **Professional Development**: Avery has actively participated in leadership training programs and industry conferences, representing Insurellm and fostering partnerships.  \n- **Div...",
          "<b>Type:</b> employees<br><b>Preview:</b> # HR Record\n\n# Emily Carter\n\n## Summary\n- **Date of Birth:** August 12, 1990  \n- **Job Title:** Account Executive  \n- **Location:** Austin, Texas  \n\n## Insurellm Career Progression\n- **2021-Present:**...",
          "<b>Type:</b> employees<br><b>Preview:</b> - **2017-2019:** Marketing Intern  \n  - Assisted with market research and campaign development for social media outreach.  \n  - Achievements:  \n    - Contributed ideas for a social media campaign that...",
          "<b>Type:</b> employees<br><b>Preview:</b> ## Compensation History\n| Year | Base Salary | Bonus         | Total Compensation |\n|------|-------------|---------------|--------------------|\n| 2023 | $70,000     | $10,000       | $80,000          ...",
          "<b>Type:</b> employees<br><b>Preview:</b> Emily Carter exemplifies the kind of talent that drives Insurellm's success and is an invaluable asset to the company....",
          "<b>Type:</b> employees<br><b>Preview:</b> # HR Record\n\n# Emily Tran\n\n## Summary\n- **Date of Birth:** March 18, 1991  \n- **Job Title:** Digital Marketing Specialist  \n- **Location:** San Francisco, CA  \n\n---\n\n## Insurellm Career Progression\n- ...",
          "<b>Type:</b> employees<br><b>Preview:</b> - **January 2017 - May 2018**: Marketing Intern  \n  - Supported the Marketing team by collaborating on content creation and digital advertising projects.\n  - Gained hands-on experience with marketing ...",
          "<b>Type:</b> employees<br><b>Preview:</b> - **2021**:  \n  - Performance Rating: Meets Expectations  \n  - Key Achievements: Contributed to the launch of a customer referral program that resulted in a 15% growth in B2C customers.\n\n---\n\n## Compe...",
          "<b>Type:</b> employees<br><b>Preview:</b> - **Professional Development Goals**:  \n  - Emily Tran aims to become a Marketing Manager within the next two years, focusing on leading larger campaigns and developing junior team members.\n\n- **Hobbi...",
          "<b>Type:</b> employees<br><b>Preview:</b> # HR Record\n\n# Jordan Blake\n\n## Summary\n- **Date of Birth:** March 15, 1993  \n- **Job Title:** Sales Development Representative (SDR)  \n- **Location:** Austin, Texas  \n\n## Insurellm Career Progression...",
          "<b>Type:</b> employees<br><b>Preview:</b> ## Annual Performance History\n- **2021:** First year at Insurellm; achieved 90% of monthly targets.  \n  - **Feedback:** Strong potential shown in lead generation; needs improvement in follow-up techni...",
          "<b>Type:</b> employees<br><b>Preview:</b> ## Other HR Notes\n- Jordan has shown an interest in continuing education, actively participating in company-sponsored sales webinars.  \n- Notable for involvement in the Insurellm volunteer program, as...",
          "<b>Type:</b> employees<br><b>Preview:</b> # HR Record\n\n# Jordan K. Bishop\n\n## Summary\n- **Date of Birth:** March 15, 1990\n- **Job Title:** Frontend Software Engineer\n- **Location:** Austin, Texas\n\n## Insurellm Career Progression\n- **June 2018...",
          "<b>Type:</b> employees<br><b>Preview:</b> ## Annual Performance History\n- **2019:** Exceeds Expectations - Continuously delivered high-quality code and participated actively in team meetings.\n- **2020:** Meets Expectations - Jordan K. Bishop ...",
          "<b>Type:</b> employees<br><b>Preview:</b> ## Compensation History\n- **June 2018:** Starting Salary - $85,000\n- **June 2019:** Salary Increase - $95,000 (Promotion to Senior Engineer)\n- **June 2021:** Salary Increase - $105,000 with bonus for ...",
          "<b>Type:</b> employees<br><b>Preview:</b> ## Other HR Notes\n- Jordan K. Bishop has been an integral part of club initiatives, including the Insurellm Code Reviews and Feedback Group, providing peer support.\n- Active participant in the company...",
          "<b>Type:</b> employees<br><b>Preview:</b> # HR Record\n\n# Maxine Thompson\n\n## Summary\n- **Date of Birth:** January 15, 1991  \n- **Job Title:** Data Engineer  \n- **Location:** Austin, Texas...",
          "<b>Type:</b> employees<br><b>Preview:</b> ## Insurellm Career Progression\n- **January 2017 - October 2018**: **Junior Data Engineer**  \n  * Maxine joined Insurellm as a Junior Data Engineer, focusing primarily on ETL processes and data integr...",
          "<b>Type:</b> employees<br><b>Preview:</b> ## Annual Performance History\n- **2017**: *Meets Expectations*  \n  Maxine showed potential in her role but struggled with initial project deadlines. Her adaptability and willingness to learn made posi...",
          "<b>Type:</b> employees<br><b>Preview:</b> - **2021**: *Exceeds Expectations*  \n  Maxine spearheaded the transition to a new data warehousing solution, significantly enhancing Insurellm’s data analytics capabilities. This major achievement bol...",
          "<b>Type:</b> employees<br><b>Preview:</b> ## Compensation History\n- **2017**: $70,000 (Junior Data Engineer)  \n- **2018**: $75,000 (Junior Data Engineer)  \n- **2019**: $80,000 (Data Engineer)  \n- **2020**: $84,000 (Data Engineer)  \n- **2021**...",
          "<b>Type:</b> employees<br><b>Preview:</b> # HR Record\n\n# Oliver Spencer\n\n## Summary\n- **Date of Birth**: May 14, 1990  \n- **Job Title**: Backend Software Engineer  \n- **Location**: Austin, Texas  \n\n## Insurellm Career Progression\n- **March 20...",
          "<b>Type:</b> employees<br><b>Preview:</b> ## Annual Performance History\n- **2018**: **3/5** - Adaptable team player but still learning to take initiative.\n- **2019**: **4/5** - Demonstrated strong problem-solving skills, outstanding contribut...",
          "<b>Type:</b> employees<br><b>Preview:</b> ## Compensation History\n- **March 2018**: Initial salary of $80,000.\n- **July 2019**: Salary increased to $90,000 post-promotion.\n- **June 2021**: Salary raised to $105,000 after role transition.\n- **...",
          "<b>Type:</b> employees<br><b>Preview:</b> # Samantha Greene\n\n## Summary\n- **Date of Birth:** October 14, 1990\n- **Job Title:** HR Generalist\n- **Location:** Denver, Colorado\n\n## Insurellm Career Progression\n- **2020** - Joined Insurellm as a ...",
          "<b>Type:</b> employees<br><b>Preview:</b> ## Annual Performance History\n- **2020:** Exceeds Expectations  \n  Samantha Greene demonstrated exceptional organizational skills and contributed to a streamlined onboarding process, earning commendat...",
          "<b>Type:</b> employees<br><b>Preview:</b> ## Compensation History\n- **2020:** Base Salary - $55,000  \n  The entry-level salary matched industry standards for HR Coordinators with limited experience.\n\n- **2021:** Base Salary - $65,000  \n  Foll...",
          "<b>Type:</b> employees<br><b>Preview:</b> - **2023:** Base Salary - $70,000  \n  Recognized for substantial improvement in employee relations management and contributions to company culture, leading to a well-deserved increase.\n\n## Other HR No...",
          "<b>Type:</b> employees<br><b>Preview:</b> # HR Record\n\n# Samuel Trenton\n\n## Summary\n- **Date of Birth:** April 12, 1989  \n- **Job Title:** Senior Data Scientist  \n- **Location:** Austin, Texas  \n\n## Insurellm Career Progression\n- **January 20...",
          "<b>Type:</b> employees<br><b>Preview:</b> ## Annual Performance History\n- **2023:** Rating: 4.5/5  \n  *Samuel exceeded expectations, successfully leading a cross-departmental project on AI-driven underwriting processes.*\n\n- **2022:** Rating: ...",
          "<b>Type:</b> employees<br><b>Preview:</b> ## Compensation History\n- **2023:** Base Salary: $115,000 + Bonus: $15,000  \n  *Annual bonus based on successful project completions and performance metrics.*\n\n- **2022:** Base Salary: $110,000 + Bonu...",
          "<b>Type:</b> employees<br><b>Preview:</b> - **Engagement in Company Culture:** Regularly participates in team-building events and contributes to the internal newsletter, sharing insights on data science trends.\n\n- **Areas for Improvement:** C...",
          "<b>Type:</b> products<br><b>Preview:</b> # Product Summary\n\n# Carllm\n\n## Summary\n\nCarllm is an innovative auto insurance product developed by Insurellm, designed to streamline the way insurance companies offer coverage to their customers. Po...",
          "<b>Type:</b> products<br><b>Preview:</b> - **Instant Quoting**: With Carllm, insurance companies can offer near-instant quotes to customers, enhancing the customer experience. The AI engine processes data in real-time, drastically reducing t...",
          "<b>Type:</b> products<br><b>Preview:</b> - **Mobile Integration**: Carllm is designed to work seamlessly with mobile applications, providing both insurers and end-users access to policy management and claims reporting on the go.\n\n- **Automat...",
          "<b>Type:</b> products<br><b>Preview:</b> - **Professional Tier**: $2,500/month\n  - For medium-sized companies.\n  - All Basic Tier features plus advanced analytics and fraud detection.\n\n- **Enterprise Tier**: $5,000/month\n  - Customized solut...",
          "<b>Type:</b> products<br><b>Preview:</b> ### Q2 2025: Customer Experience Improvements\n- Launch of a new **mobile app** for end-users.\n- Introduction of **telematics-based pricing** to provide even more tailored coverage options.\n\n### Q3 202...",
          "<b>Type:</b> products<br><b>Preview:</b> # Product Summary\n\n# Homellm\n\n## Summary\nHomellm is an innovative home insurance product developed by Insurellm that leverages advanced AI technology to revolutionize the way insurance providers offer...",
          "<b>Type:</b> products<br><b>Preview:</b> ### 2. Dynamic Pricing Model\nWith Homellm's innovative dynamic pricing model, insurance providers can offer flexible premiums based on real-time risk evaluations and historical data. This adaptability...",
          "<b>Type:</b> products<br><b>Preview:</b> ### 5. Multi-Channel Integration\nHomellm seamlessly integrates into existing insurance platforms, providing a centralized hub for managing customer policies and claims. Insurance providers can easily ...",
          "<b>Type:</b> products<br><b>Preview:</b> - **Basic Tier:** Starting at $5,000/month for small insurers with basic integration features.\n- **Standard Tier:** Starting at $10,000/month for medium-sized insurers including advanced analytics and...",
          "<b>Type:</b> products<br><b>Preview:</b> All tiers include a comprehensive training program and ongoing updates to ensure optimal performance.\n\n## Roadmap\nThe development roadmap for Homellm includes the following key milestones:\n\n- **Q1 202...",
          "<b>Type:</b> products<br><b>Preview:</b> With Homellm, Insurellm is committed to transforming the landscape of home insurance, ensuring both innovation and reliability for all insurance providers and their customers. Explore the future of ho...",
          "<b>Type:</b> products<br><b>Preview:</b> # Product Summary\n\n# Markellm\n\n## Summary\n\nMarkellm is an innovative two-sided marketplace designed to seamlessly connect consumers with insurance companies. Powered by advanced matching AI, Markellm ...",
          "<b>Type:</b> products<br><b>Preview:</b> - **User-Friendly Interface**: Designed with user experience in mind, Markellm features an intuitive interface that allows consumers to easily browse and compare various insurance offerings from multi...",
          "<b>Type:</b> products<br><b>Preview:</b> - **Customer Support**: Our dedicated support team is always available to assist both consumers and insurers throughout the process, providing guidance and answering any questions that may arise.\n\n- *...",
          "<b>Type:</b> products<br><b>Preview:</b> ### For Insurance Companies:\n- **Basic Listing Fee**: $199/month for a featured listing on the platform, providing exposure to thousands of potential customers.\n- **Performance-Based Pricing**: Option...",
          "<b>Type:</b> products<br><b>Preview:</b> ### Q3 2025\n- Initiate a comprehensive marketing campaign targeting both consumers and insurers to increase user acquisition and brand awareness.\n- Release user testimonials and case studies showcasin...",
          "<b>Type:</b> products<br><b>Preview:</b> # Product Summary\n\n# Rellm: AI-Powered Enterprise Reinsurance Solution\n\n## Summary\n\nRellm is an innovative enterprise reinsurance product developed by Insurellm, designed to transform the way reinsura...",
          "<b>Type:</b> products<br><b>Preview:</b> ### Seamless Integrations\nRellm's architecture is designed for effortless integration with existing systems. Whether it's policy management, claims processing, or financial reporting, Rellm connects s...",
          "<b>Type:</b> products<br><b>Preview:</b> ### Regulatory Compliance Tools\nRellm includes built-in compliance tracking features to help organizations meet local and international regulatory standards. This ensures that reinsurance practices re...",
          "<b>Type:</b> products<br><b>Preview:</b> Join the growing number of organizations leveraging Rellm to enhance their reinsurance processes while driving profitability and compliance. \n\n## 2025-2026 Roadmap\n\nAt Insurellm, we are committed to t...",
          "<b>Type:</b> products<br><b>Preview:</b> Experience the future of reinsurance with Rellm, where innovation meets reliability. Let Insurellm help you navigate the complexities of the reinsurance market smarter and faster...."
         ],
         "type": "scatter",
         "x": {
          "bdata": "gEMPQPRGGECaMBFAnrkSwP0wib/v3+g++hdewIZR2cBTutrAIQmWwEYbkT94V43A6u/nwK9S0sCiXr6/EmCRvtHyysDSpPa/5HF6v0/oub2sX5O/1ASowNvTw8C4MYfAfPiWQHw5hEADpOHA4QmRwL0pC8BIFolAjTmGwN8z8MAW84nAtRtvwOKuiUCF3G3A1guiwBGJj8A2l6dABLSLwJexi8C21F3ACtaav1ItRcDGA+W/3CPYv6P5OT4kl12/OaeSwNZBKsAZnIvAc4+mwLGEgcAYpBbAPEh2wDrIwEAH08G+rAM3QGMbIEAMipRA0F75P7xEVkDS55FAq+mvP9MahUAhkbM+o21XvwXmwL8APtO/yukmQDeCmz7ldHFAkI6NP2VyV0CiFSNAHHY7QG/3A0BDFRxAX78VQFXyoEBuiihAeuejQPHWxED4YXS/Ixv0P+jbt0BFAuZAfoVLvxhWmr+NOsS/3VRKP5hozED7n5e+jFJMQOxKo0AGW9+9aS2OQDUck0CJeLZA1GKuP7Wy7j8+/tVAM4OPP/shgj+yU0E+8ufRvKIQcT9/mHNA/86GQF0zX0BmRyNAG7MxQNjDVUC6CABAfE4AQATQHEBD+FRABm4lQK9D3T/l2Wk/QT9hP55lqz8ydQVA",
          "dtype": "f4"
         },
         "y": {
          "bdata": "kYlOPg82Kr8hdAk/+J5dQF1TiUCopHRA2Dp6QLBD5z6/gVdAhCUkQWRxE0H1SXpAdzqpP4ogi0CTaw9BI38UQc+OjkAMuzhAmspbQPhyRkBImCJAWfTdvu8QOkA5NyBBvM7YQOCZCkFy9hU9V7MMQNORqEDXaZ9A+r0yQOnnwz13BLI/WoW1P7pTtEDw42A/bAoBQELiIUFzyqhAdbJZQNba/kB06A9B2DPeQJZxyUBzn5k/rfRgP22VCEC6O9Q/85rfQI8D7EAnaLtAvRDCQFJl5kAcxuhA0G6zQDf87sCwMg/BYHE7wTZUWcDEhe/Amj4rwZieG8HTod7ANsQgwb4+xcBNjJvAgPjVwAAq4MA+497AfdlNwY9josDDHP/AzeEAwTjdL8EytnvA0+jxwE7u78ALHB7BbLbiwLkP8sDInC7BSP2twNRj0sD+iQ3BAt9NwXplsMAvGgnBrwc7wdWeHsFfHifBerdFwfcq78AP3g3BMeJAwUH9IsG0yx/BUXY6wbP7L8EIxAjBxpUxwWKoPcGqvCfBdUvgQBcs50BQf95AQinUQJdNwUD1Ol1AwwmNQGk6fkB3fLxAxHKoQOpCB0BBVBNBhLAMQV4PCEH/0ghB11QdQW3JSEDcqGpAnncvQKfZnEB1Leg/",
          "dtype": "f4"
         }
        }
       ],
       "layout": {
        "height": 700,
        "margin": {
         "b": 50,
         "l": 50,
         "r": 50,
         "t": 70
        },
        "plot_bgcolor": "rgba(245, 245, 245, 1)",
        "template": {
         "data": {
          "bar": [
           {
            "error_x": {
             "color": "#2a3f5f"
            },
            "error_y": {
             "color": "#2a3f5f"
            },
            "marker": {
             "line": {
              "color": "#E5ECF6",
              "width": 0.5
             },
             "pattern": {
              "fillmode": "overlay",
              "size": 10,
              "solidity": 0.2
             }
            },
            "type": "bar"
           }
          ],
          "barpolar": [
           {
            "marker": {
             "line": {
              "color": "#E5ECF6",
              "width": 0.5
             },
             "pattern": {
              "fillmode": "overlay",
              "size": 10,
              "solidity": 0.2
             }
            },
            "type": "barpolar"
           }
          ],
          "carpet": [
           {
            "aaxis": {
             "endlinecolor": "#2a3f5f",
             "gridcolor": "white",
             "linecolor": "white",
             "minorgridcolor": "white",
             "startlinecolor": "#2a3f5f"
            },
            "baxis": {
             "endlinecolor": "#2a3f5f",
             "gridcolor": "white",
             "linecolor": "white",
             "minorgridcolor": "white",
             "startlinecolor": "#2a3f5f"
            },
            "type": "carpet"
           }
          ],
          "choropleth": [
           {
            "colorbar": {
             "outlinewidth": 0,
             "ticks": ""
            },
            "type": "choropleth"
           }
          ],
          "contour": [
           {
            "colorbar": {
             "outlinewidth": 0,
             "ticks": ""
            },
            "colorscale": [
             [
              0,
              "#0d0887"
             ],
             [
              0.1111111111111111,
              "#46039f"
             ],
             [
              0.2222222222222222,
              "#7201a8"
             ],
             [
              0.3333333333333333,
              "#9c179e"
             ],
             [
              0.4444444444444444,
              "#bd3786"
             ],
             [
              0.5555555555555556,
              "#d8576b"
             ],
             [
              0.6666666666666666,
              "#ed7953"
             ],
             [
              0.7777777777777778,
              "#fb9f3a"
             ],
             [
              0.8888888888888888,
              "#fdca26"
             ],
             [
              1,
              "#f0f921"
             ]
            ],
            "type": "contour"
           }
          ],
          "contourcarpet": [
           {
            "colorbar": {
             "outlinewidth": 0,
             "ticks": ""
            },
            "type": "contourcarpet"
           }
          ],
          "heatmap": [
           {
            "colorbar": {
             "outlinewidth": 0,
             "ticks": ""
            },
            "colorscale": [
             [
              0,
              "#0d0887"
             ],
             [
              0.1111111111111111,
              "#46039f"
             ],
             [
              0.2222222222222222,
              "#7201a8"
             ],
             [
              0.3333333333333333,
              "#9c179e"
             ],
             [
              0.4444444444444444,
              "#bd3786"
             ],
             [
              0.5555555555555556,
              "#d8576b"
             ],
             [
              0.6666666666666666,
              "#ed7953"
             ],
             [
              0.7777777777777778,
              "#fb9f3a"
             ],
             [
              0.8888888888888888,
              "#fdca26"
             ],
             [
              1,
              "#f0f921"
             ]
            ],
            "type": "heatmap"
           }
          ],
          "histogram": [
           {
            "marker": {
             "pattern": {
              "fillmode": "overlay",
              "size": 10,
              "solidity": 0.2
             }
            },
            "type": "histogram"
           }
          ],
          "histogram2d": [
           {
            "colorbar": {
             "outlinewidth": 0,
             "ticks": ""
            },
            "colorscale": [
             [
              0,
              "#0d0887"
             ],
             [
              0.1111111111111111,
              "#46039f"
             ],
             [
              0.2222222222222222,
              "#7201a8"
             ],
             [
              0.3333333333333333,
              "#9c179e"
             ],
             [
              0.4444444444444444,
              "#bd3786"
             ],
             [
              0.5555555555555556,
              "#d8576b"
             ],
             [
              0.6666666666666666,
              "#ed7953"
             ],
             [
              0.7777777777777778,
              "#fb9f3a"
             ],
             [
              0.8888888888888888,
              "#fdca26"
             ],
             [
              1,
              "#f0f921"
             ]
            ],
            "type": "histogram2d"
           }
          ],
          "histogram2dcontour": [
           {
            "colorbar": {
             "outlinewidth": 0,
             "ticks": ""
            },
            "colorscale": [
             [
              0,
              "#0d0887"
             ],
             [
              0.1111111111111111,
              "#46039f"
             ],
             [
              0.2222222222222222,
              "#7201a8"
             ],
             [
              0.3333333333333333,
              "#9c179e"
             ],
             [
              0.4444444444444444,
              "#bd3786"
             ],
             [
              0.5555555555555556,
              "#d8576b"
             ],
             [
              0.6666666666666666,
              "#ed7953"
             ],
             [
              0.7777777777777778,
              "#fb9f3a"
             ],
             [
              0.8888888888888888,
              "#fdca26"
             ],
             [
              1,
              "#f0f921"
             ]
            ],
            "type": "histogram2dcontour"
           }
          ],
          "mesh3d": [
           {
            "colorbar": {
             "outlinewidth": 0,
             "ticks": ""
            },
            "type": "mesh3d"
           }
          ],
          "parcoords": [
           {
            "line": {
             "colorbar": {
              "outlinewidth": 0,
              "ticks": ""
             }
            },
            "type": "parcoords"
           }
          ],
          "pie": [
           {
            "automargin": true,
            "type": "pie"
           }
          ],
          "scatter": [
           {
            "fillpattern": {
             "fillmode": "overlay",
             "size": 10,
             "solidity": 0.2
            },
            "type": "scatter"
           }
          ],
          "scatter3d": [
           {
            "line": {
             "colorbar": {
              "outlinewidth": 0,
              "ticks": ""
             }
            },
            "marker": {
             "colorbar": {
              "outlinewidth": 0,
              "ticks": ""
             }
            },
            "type": "scatter3d"
           }
          ],
          "scattercarpet": [
           {
            "marker": {
             "colorbar": {
              "outlinewidth": 0,
              "ticks": ""
             }
            },
            "type": "scattercarpet"
           }
          ],
          "scattergeo": [
           {
            "marker": {
             "colorbar": {
              "outlinewidth": 0,
              "ticks": ""
             }
            },
            "type": "scattergeo"
           }
          ],
          "scattergl": [
           {
            "marker": {
             "colorbar": {
              "outlinewidth": 0,
              "ticks": ""
             }
            },
            "type": "scattergl"
           }
          ],
          "scattermap": [
           {
            "marker": {
             "colorbar": {
              "outlinewidth": 0,
              "ticks": ""
             }
            },
            "type": "scattermap"
           }
          ],
          "scattermapbox": [
           {
            "marker": {
             "colorbar": {
              "outlinewidth": 0,
              "ticks": ""
             }
            },
            "type": "scattermapbox"
           }
          ],
          "scatterpolar": [
           {
            "marker": {
             "colorbar": {
              "outlinewidth": 0,
              "ticks": ""
             }
            },
            "type": "scatterpolar"
           }
          ],
          "scatterpolargl": [
           {
            "marker": {
             "colorbar": {
              "outlinewidth": 0,
              "ticks": ""
             }
            },
            "type": "scatterpolargl"
           }
          ],
          "scatterternary": [
           {
            "marker": {
             "colorbar": {
              "outlinewidth": 0,
              "ticks": ""
             }
            },
            "type": "scatterternary"
           }
          ],
          "surface": [
           {
            "colorbar": {
             "outlinewidth": 0,
             "ticks": ""
            },
            "colorscale": [
             [
              0,
              "#0d0887"
             ],
             [
              0.1111111111111111,
              "#46039f"
             ],
             [
              0.2222222222222222,
              "#7201a8"
             ],
             [
              0.3333333333333333,
              "#9c179e"
             ],
             [
              0.4444444444444444,
              "#bd3786"
             ],
             [
              0.5555555555555556,
              "#d8576b"
             ],
             [
              0.6666666666666666,
              "#ed7953"
             ],
             [
              0.7777777777777778,
              "#fb9f3a"
             ],
             [
              0.8888888888888888,
              "#fdca26"
             ],
             [
              1,
              "#f0f921"
             ]
            ],
            "type": "surface"
           }
          ],
          "table": [
           {
            "cells": {
             "fill": {
              "color": "#EBF0F8"
             },
             "line": {
              "color": "white"
             }
            },
            "header": {
             "fill": {
              "color": "#C8D4E3"
             },
             "line": {
              "color": "white"
             }
            },
            "type": "table"
           }
          ]
         },
         "layout": {
          "annotationdefaults": {
           "arrowcolor": "#2a3f5f",
           "arrowhead": 0,
           "arrowwidth": 1
          },
          "autotypenumbers": "strict",
          "coloraxis": {
           "colorbar": {
            "outlinewidth": 0,
            "ticks": ""
           }
          },
          "colorscale": {
           "diverging": [
            [
             0,
             "#8e0152"
            ],
            [
             0.1,
             "#c51b7d"
            ],
            [
             0.2,
             "#de77ae"
            ],
            [
             0.3,
             "#f1b6da"
            ],
            [
             0.4,
             "#fde0ef"
            ],
            [
             0.5,
             "#f7f7f7"
            ],
            [
             0.6,
             "#e6f5d0"
            ],
            [
             0.7,
             "#b8e186"
            ],
            [
             0.8,
             "#7fbc41"
            ],
            [
             0.9,
             "#4d9221"
            ],
            [
             1,
             "#276419"
            ]
           ],
           "sequential": [
            [
             0,
             "#0d0887"
            ],
            [
             0.1111111111111111,
             "#46039f"
            ],
            [
             0.2222222222222222,
             "#7201a8"
            ],
            [
             0.3333333333333333,
             "#9c179e"
            ],
            [
             0.4444444444444444,
             "#bd3786"
            ],
            [
             0.5555555555555556,
             "#d8576b"
            ],
            [
             0.6666666666666666,
             "#ed7953"
            ],
            [
             0.7777777777777778,
             "#fb9f3a"
            ],
            [
             0.8888888888888888,
             "#fdca26"
            ],
            [
             1,
             "#f0f921"
            ]
           ],
           "sequentialminus": [
            [
             0,
             "#0d0887"
            ],
            [
             0.1111111111111111,
             "#46039f"
            ],
            [
             0.2222222222222222,
             "#7201a8"
            ],
            [
             0.3333333333333333,
             "#9c179e"
            ],
            [
             0.4444444444444444,
             "#bd3786"
            ],
            [
             0.5555555555555556,
             "#d8576b"
            ],
            [
             0.6666666666666666,
             "#ed7953"
            ],
            [
             0.7777777777777778,
             "#fb9f3a"
            ],
            [
             0.8888888888888888,
             "#fdca26"
            ],
            [
             1,
             "#f0f921"
            ]
           ]
          },
          "colorway": [
           "#636efa",
           "#EF553B",
           "#00cc96",
           "#ab63fa",
           "#FFA15A",
           "#19d3f3",
           "#FF6692",
           "#B6E880",
           "#FF97FF",
           "#FECB52"
          ],
          "font": {
           "color": "#2a3f5f"
          },
          "geo": {
           "bgcolor": "white",
           "lakecolor": "white",
           "landcolor": "#E5ECF6",
           "showlakes": true,
           "showland": true,
           "subunitcolor": "white"
          },
          "hoverlabel": {
           "align": "left"
          },
          "hovermode": "closest",
          "mapbox": {
           "style": "light"
          },
          "paper_bgcolor": "white",
          "plot_bgcolor": "#E5ECF6",
          "polar": {
           "angularaxis": {
            "gridcolor": "white",
            "linecolor": "white",
            "ticks": ""
           },
           "bgcolor": "#E5ECF6",
           "radialaxis": {
            "gridcolor": "white",
            "linecolor": "white",
            "ticks": ""
           }
          },
          "scene": {
           "xaxis": {
            "backgroundcolor": "#E5ECF6",
            "gridcolor": "white",
            "gridwidth": 2,
            "linecolor": "white",
            "showbackground": true,
            "ticks": "",
            "zerolinecolor": "white"
           },
           "yaxis": {
            "backgroundcolor": "#E5ECF6",
            "gridcolor": "white",
            "gridwidth": 2,
            "linecolor": "white",
            "showbackground": true,
            "ticks": "",
            "zerolinecolor": "white"
           },
           "zaxis": {
            "backgroundcolor": "#E5ECF6",
            "gridcolor": "white",
            "gridwidth": 2,
            "linecolor": "white",
            "showbackground": true,
            "ticks": "",
            "zerolinecolor": "white"
           }
          },
          "shapedefaults": {
           "line": {
            "color": "#2a3f5f"
           }
          },
          "ternary": {
           "aaxis": {
            "gridcolor": "white",
            "linecolor": "white",
            "ticks": ""
           },
           "baxis": {
            "gridcolor": "white",
            "linecolor": "white",
            "ticks": ""
           },
           "bgcolor": "#E5ECF6",
           "caxis": {
            "gridcolor": "white",
            "linecolor": "white",
            "ticks": ""
           }
          },
          "title": {
           "x": 0.05
          },
          "xaxis": {
           "automargin": true,
           "gridcolor": "white",
           "linecolor": "white",
           "ticks": "",
           "title": {
            "standoff": 15
           },
           "zerolinecolor": "white",
           "zerolinewidth": 2
          },
          "yaxis": {
           "automargin": true,
           "gridcolor": "white",
           "linecolor": "white",
           "ticks": "",
           "title": {
            "standoff": 15
           },
           "zerolinecolor": "white",
           "zerolinewidth": 2
          }
         }
        },
        "title": {
         "text": "t-SNE Projection of Chroma Vector Store"
        },
        "width": 900,
        "xaxis": {
         "showgrid": true,
         "title": {
          "text": "t-SNE X"
         }
        },
        "yaxis": {
         "showgrid": true,
         "title": {
          "text": "t-SNE Y"
         }
        }
       }
      }
     },
     "metadata": {},
     "output_type": "display_data"
    }
   ],
   "source": [
    "# Reduce the dimensionality of the vectors to 2D using t-SNE\n",
    "# (t-distributed stochastic neighbor embedding)\n",
    "\n",
    "tsne = TSNE(n_components=2, perplexity=30, max_iter=1000, random_state=100)\n",
    "reduced_vectors = tsne.fit_transform(vectors)\n",
    "\n",
    "# Create a richer 2D scatter plot with document info and type-based coloring\n",
    "\n",
    "import plotly.graph_objects as go\n",
    "\n",
    "fig = go.Figure(data=[go.Scatter(\n",
    "    x=reduced_vectors[:, 0],\n",
    "    y=reduced_vectors[:, 1],\n",
    "    mode='markers',\n",
    "    marker=dict(\n",
    "        size=7,\n",
    "        color=colors,\n",
    "        opacity=0.85,\n",
    "        line=dict(width=0.5, color='black')\n",
    "    ),\n",
    "    text=[f\"<b>Type:</b> {t}<br><b>Preview:</b> {d[:200]}...\" for t, d in zip(doc_types, documents)],\n",
    "    hoverinfo='text'\n",
    ")])\n",
    "\n",
    "fig.update_layout(\n",
    "    title='t-SNE Projection of Chroma Vector Store',\n",
    "    xaxis=dict(title='t-SNE X', showgrid=True),\n",
    "    yaxis=dict(title='t-SNE Y', showgrid=True),\n",
    "    width=900,\n",
    "    height=700,\n",
    "    margin=dict(l=50, r=50, t=70, b=50),\n",
    "    plot_bgcolor='rgba(245, 245, 245, 1)'\n",
    ")\n",
    "\n",
    "fig.show()"
   ]
  },
  {
   "cell_type": "code",
   "execution_count": 27,
   "id": "1437b65e",
   "metadata": {},
   "outputs": [
    {
     "data": {
      "application/vnd.plotly.v1+json": {
       "config": {
        "plotlyServerURL": "https://plot.ly"
       },
       "data": [
        {
         "hoverinfo": "text",
         "marker": {
          "color": [
           "orange",
           "orange",
           "orange",
           "red",
           "red",
           "red",
           "red",
           "red",
           "red",
           "red",
           "red",
           "red",
           "red",
           "red",
           "red",
           "red",
           "red",
           "red",
           "red",
           "red",
           "red",
           "red",
           "red",
           "red",
           "red",
           "red",
           "red",
           "red",
           "red",
           "red",
           "red",
           "red",
           "red",
           "red",
           "red",
           "red",
           "red",
           "red",
           "red",
           "red",
           "red",
           "red",
           "red",
           "red",
           "red",
           "red",
           "red",
           "red",
           "red",
           "red",
           "red",
           "red",
           "red",
           "red",
           "red",
           "green",
           "green",
           "green",
           "green",
           "green",
           "green",
           "green",
           "green",
           "green",
           "green",
           "green",
           "green",
           "green",
           "green",
           "green",
           "green",
           "green",
           "green",
           "green",
           "green",
           "green",
           "green",
           "green",
           "green",
           "green",
           "green",
           "green",
           "green",
           "green",
           "green",
           "green",
           "green",
           "green",
           "green",
           "green",
           "green",
           "green",
           "green",
           "green",
           "green",
           "green",
           "green",
           "green",
           "green",
           "green",
           "green",
           "green",
           "blue",
           "blue",
           "blue",
           "blue",
           "blue",
           "blue",
           "blue",
           "blue",
           "blue",
           "blue",
           "blue",
           "blue",
           "blue",
           "blue",
           "blue",
           "blue",
           "blue",
           "blue",
           "blue",
           "blue",
           "blue"
          ],
          "line": {
           "color": "black",
           "width": 0.5
          },
          "opacity": 0.85,
          "size": 6
         },
         "mode": "markers",
         "text": [
          "<b>Type:</b> company<br><b>Preview:</b> # About Insurellm\n\nInsurellm was founded by Avery Lancaster in 2015 as an insurance tech startup designed to disrupt an industry in need of innovative products. It's first product was Markellm, the ma...",
          "<b>Type:</b> company<br><b>Preview:</b> # Careers at Insurellm\n\nInsurellm is hiring! We are looking for talented software engineers, data scientists and account executives to join our growing team. Come be a part of our movement to disrupt ...",
          "<b>Type:</b> company<br><b>Preview:</b> # Overview of Insurellm\n\nInsurellm is an innovative insurance tech firm with 200 employees across the US.\nInsurellm offers 4 insurance software products:\n- Carllm, a portal for auto insurance companie...",
          "<b>Type:</b> contracts<br><b>Preview:</b> # Contract with Apex Reinsurance for Rellm: AI-Powered Enterprise Reinsurance Solution\n\n## Terms\n\n1. **Parties Involved**: This contract (“Agreement”) is entered into between Insurellm, Inc. (“Provide...",
          "<b>Type:</b> contracts<br><b>Preview:</b> ## Renewal\n\n1. **Automatic Renewal**: This Agreement will automatically renew for successive one-year terms unless either party provides a written notice of intent to terminate at least thirty (30) da...",
          "<b>Type:</b> contracts<br><b>Preview:</b> 2. **Seamless Integrations**: The architecture of Rellm allows for easy integration with existing systems used by the Client, including policy management and claims processing.\n\n3. **Customizable Dash...",
          "<b>Type:</b> contracts<br><b>Preview:</b> 1. **Technical Support**: Provider shall offer dedicated technical support to the Client via phone, email, and a ticketing system during business hours (Monday to Friday, 9 AM to 5 PM EST).\n\n2. **Trai...",
          "<b>Type:</b> contracts<br><b>Preview:</b> **Insurellm, Inc.**  \n_____________________________  \nAuthorized Signature   \nDate: ___________________  \n\n**Apex Reinsurance**  \n_____________________________  \nAuthorized Signature  \nDate: _________...",
          "<b>Type:</b> contracts<br><b>Preview:</b> # Contract with Belvedere Insurance for Markellm\n\n## Terms\nThis Contract (\"Agreement\") is made and entered into as of [Date] by and between Insurellm, Inc., a corporation registered in the United Stat...",
          "<b>Type:</b> contracts<br><b>Preview:</b> ## Renewal\n1. **Renewal Terms**: This Agreement may be renewed for additional one-year terms upon mutual written consent of both parties no later than 30 days before the end of the current term.\n2. **...",
          "<b>Type:</b> contracts<br><b>Preview:</b> ## Features\n1. **AI-Powered Matching**: Belvedere Insurance will benefit from Markellm's AI-powered matching, ensuring the best-fit customers are identified and connected.\n2. **Real-Time Quotes**: Acc...",
          "<b>Type:</b> contracts<br><b>Preview:</b> ## Support\n1. **Technical Support**: Technical support will be available from 9 AM to 7 PM EST, Monday through Friday via email and phone.\n2. **Response Times**: Insurellm agrees to respond to all sup...",
          "<b>Type:</b> contracts<br><b>Preview:</b> **Belvedere Insurance**  \nSignature: ______________________  \nName: [Authorized Signatory]  \nTitle: [Title]  \nDate: ______________________  \n\n--- \nThis synthetic contract document outlines a fictional...",
          "<b>Type:</b> contracts<br><b>Preview:</b> # Contract with BrightWay Solutions for Markellm\n\n**Contract Date:** October 5, 2023  \n**Contract ID:** INS-2023-0092\n\n### Terms\nThis contract (“Contract”) is made between Insurellm, a company incorpo...",
          "<b>Type:</b> contracts<br><b>Preview:</b> 3. **Service Level Agreement (SLA):**  \n   Insurellm commits to a 99.9% uptime for the platform with dedicated support response times not exceeding 4 business hours.\n\n### Renewal\n1. **Automatic Renewa...",
          "<b>Type:</b> contracts<br><b>Preview:</b> 2. **Real-Time Quote Availability:**  \n   Consumers sourced via BrightWay Solutions will receive real-time quotes, allowing for a seamless customer experience.\n\n3. **Analytics Dashboard:**  \n   Access...",
          "<b>Type:</b> contracts<br><b>Preview:</b> 3. **Training and Onboarding:**  \n   Insurellm agrees to provide one free training session on how to utilize the Markellm platform effectively for BrightWay Solutions’ team upon contract signing.\n\n###...",
          "<b>Type:</b> contracts<br><b>Preview:</b> # Contract with EverGuard Insurance for Rellm: AI-Powered Enterprise Reinsurance Solution\n\n**Contract Number:** IG-2023-EG  \n**Effective Date:** January 1, 2024  \n**Expiration Date:** December 31, 202...",
          "<b>Type:</b> contracts<br><b>Preview:</b> 4. **Usage Rights**: EverGuard Insurance is granted a non-exclusive, non-transferable license to access and use Rellm for the duration of this contract. Unauthorized sharing or distribution is strictl...",
          "<b>Type:</b> contracts<br><b>Preview:</b> 1. **Core Functionality**: Rellm provides EverGuard Insurance with advanced AI-driven analytics, seamless integrations, and a comprehensive risk assessment module designed to optimize risk management....",
          "<b>Type:</b> contracts<br><b>Preview:</b> 1. **Customer Support**: Insurellm will provide EverGuard Insurance with 24/7 customer support, including live chat, email, and phone assistance for any technical issues or inquiries regarding Rellm.\n...",
          "<b>Type:</b> contracts<br><b>Preview:</b> ---\n\n**Signatures**  \n**For Insurellm**: __________________________  \n**Name**: John Smith  \n**Title**: Chief Operating Officer  \n**Date**: _________________  \n\n**For EverGuard Insurance**: __________...",
          "<b>Type:</b> contracts<br><b>Preview:</b> # Contract with GreenField Holdings for Markellm\n\n**Effective Date:** November 15, 2023  \n**Contract Duration:** 12 months  \n\n## Terms\n1. **Parties to the Agreement**: This contract is entered into be...",
          "<b>Type:</b> contracts<br><b>Preview:</b> ## Renewal\n1. **Automatic Renewal**: This contract will automatically renew for sequential one-year terms unless either party provides a written notice of non-renewal at least 30 days prior to the exp...",
          "<b>Type:</b> contracts<br><b>Preview:</b> ## Features\n1. **AI-Powered Matching**: Access to advanced algorithms that connect GreenField Holdings with tailored insurance leads.\n2. **Real-Time Quotes**: Ability to provide customers with instant...",
          "<b>Type:</b> contracts<br><b>Preview:</b> ## Support\n1. **Customer Support Access**: The Client will have access to dedicated support through phone and email during normal business hours to address any inquiries or technical issues.\n2. **Trai...",
          "<b>Type:</b> contracts<br><b>Preview:</b> **Signatures:**  \n_________________________                           _________________________  \n**[Name], Title**                                   **[Name], Title**  \nInsurellm                     ...",
          "<b>Type:</b> contracts<br><b>Preview:</b> # Contract with Greenstone Insurance for Homellm\n\n---\n\n## Terms\n\n1. **Parties**: This Contract (\"Agreement\") is entered into on this day, [Insert Date], between Insurellm (\"Provider\"), located at [Pro...",
          "<b>Type:</b> contracts<br><b>Preview:</b> 4. **Payment Terms**: \n   - The Customer shall pay an amount of $10,000 per month for the Standard Tier of the Homellm service.\n   - Payments are due within 30 days of invoicing.\n\n5. **Customization**...",
          "<b>Type:</b> contracts<br><b>Preview:</b> ---\n\n## Features\n\n- **AI-Powered Risk Assessment**: Customer will have access to enhanced risk evaluation tools, allowing for personalized underwriting based on real-time data analysis.\n  \n- **Dynamic...",
          "<b>Type:</b> contracts<br><b>Preview:</b> - **Customer Portal**: A dedicated portal will be provided, allowing the Customer's clients to manage their accounts 24/7.\n\n---\n\n## Support\n\n1. **Training**: Provider will offer a comprehensive traini...",
          "<b>Type:</b> contracts<br><b>Preview:</b> ______________________________  \n[Name], [Title]  \nDate: ______________________\n\n**For Greenstone Insurance:**\n\n______________________________  \n[Name], [Title]  \nDate: ______________________\n\n--- \n\n*...",
          "<b>Type:</b> contracts<br><b>Preview:</b> # Contract with GreenValley Insurance for Homellm\n\n**Contract Date:** October 6, 2023  \n**Contract Number:** HV-2023-0458  \n**Parties:**  \n- Insurellm, Inc.  \n- GreenValley Insurance, LLC  \n\n---\n\n## T...",
          "<b>Type:</b> contracts<br><b>Preview:</b> 4. **Confidentiality:** Both parties agree to maintain the confidentiality of proprietary information disclosed during the execution of this contract.\n\n5. **Liability:** Insurellm's liability under th...",
          "<b>Type:</b> contracts<br><b>Preview:</b> 1. **AI-Powered Risk Assessment:** Access to advanced AI algorithms for real-time risk evaluations.\n   \n2. **Dynamic Pricing Model:** Flexible premium adjustments based on ongoing risk analysis.\n\n3. *...",
          "<b>Type:</b> contracts<br><b>Preview:</b> 3. **Regular Updates:** Insurellm will offer ongoing updates and enhancements to the Homellm platform, including new features and security improvements.\n\n4. **Feedback Implementation:** Insurellm will...",
          "<b>Type:</b> contracts<br><b>Preview:</b> # Contract with Pinnacle Insurance Co. for Homellm\n\n## Terms\nThis contract (\"Contract\") is entered into as of this 1st day of January 2024 (\"Effective Date\") by and between Insurellm (\"Provider\"), a D...",
          "<b>Type:</b> contracts<br><b>Preview:</b> ## Renewal\n1. **Renewal Terms**: At the end of the initial term, this Contract shall automatically renew for additional one-year terms unless either party provides written notice of termination at lea...",
          "<b>Type:</b> contracts<br><b>Preview:</b> ## Features\n1. **AI-Powered Risk Assessment**: Utilized for tailored underwriting decisions specific to individual homeowner policies.\n2. **Dynamic Pricing Model**: Monthly premiums adjusted based on ...",
          "<b>Type:</b> contracts<br><b>Preview:</b> ## Support\n1. **Technical Support**: Insurellm shall provide 24/7 technical support via an email and phone assistance for the duration of this Contract.\n2. **Training**: Insurellm will conduct an onsi...",
          "<b>Type:</b> contracts<br><b>Preview:</b> # Contract with Roadway Insurance Inc. for Carllm\n\n---\n\n## Terms\n\n1. **Agreement Effective Date**: This contract is effective as of January 1, 2025.\n2. **Duration**: This agreement will remain in effe...",
          "<b>Type:</b> contracts<br><b>Preview:</b> ---\n\n## Renewal\n\n1. **Automatic Renewal**: This agreement will automatically renew for an additional 12-month term unless either party provides written notice of non-renewal at least 30 days before th...",
          "<b>Type:</b> contracts<br><b>Preview:</b> ---\n\n## Features\n\n1. **Access to Core Features**: Roadway Insurance Inc. will have access to all Professional Tier features, including:\n   - AI-Powered Risk Assessment\n   - Advanced Analytics & Fraud ...",
          "<b>Type:</b> contracts<br><b>Preview:</b> ---\n\n## Support\n\n1. **Technical Support**: Roadway Insurance Inc. will receive priority technical support from Insurellm for any issues arising from the Carllm product.\n2. **Training**: Insurellm will...",
          "<b>Type:</b> contracts<br><b>Preview:</b> # Contract with Stellar Insurance Co. for Rellm\n\n## Terms\nThis contract is made between **Insurellm**, located at 123 Innovation Lane, San Francisco, CA, and **Stellar Insurance Co.**, located at 456 ...",
          "<b>Type:</b> contracts<br><b>Preview:</b> ### Termination\nEither party may terminate this agreement with a **30-day written notice**. In the event of a material breach, the non-breaching party may terminate immediately, provided a written not...",
          "<b>Type:</b> contracts<br><b>Preview:</b> ## Features\nStellar Insurance Co. will receive access to the following features of the Rellm product:\n\n- **AI-Driven Analytics**: Predictive insights into risk exposures tailored for the reinsurance i...",
          "<b>Type:</b> contracts<br><b>Preview:</b> ## Support\nInsurellm provides Stellar Insurance Co. with the following support services:\n\n- **24/7 Technical Support**: Access to dedicated support representatives via phone and online chat.\n- **Quart...",
          "<b>Type:</b> contracts<br><b>Preview:</b> # Contract with TechDrive Insurance for Carllm\n\n**Contract Date:** October 1, 2024  \n**Contract Duration:** 12 months\n\n---\n\n## Terms\n\n1. **Parties Involved**: This contract is entered into between Ins...",
          "<b>Type:</b> contracts<br><b>Preview:</b> ## Renewal\n\n1. **Automatic Renewal**: This contract shall automatically renew for additional one-year terms unless either party provides written notice of non-renewal at least 30 days prior to the con...",
          "<b>Type:</b> contracts<br><b>Preview:</b> ## Support\n\n1. **Customer Support**: Insurellm will provide 24/7 customer support to TechDrive Insurance via AI-driven chatbots, ensuring timely resolution of inquiries and issues.\n\n2. **Training**: T...",
          "<b>Type:</b> contracts<br><b>Preview:</b> **TechDrive Insurance Representative:**  \nName: Sarah Johnson  \nTitle: Operations Director  \nDate: ____________  \n\nThis contract will serve as the foundational agreement for the ongoing collaboration ...",
          "<b>Type:</b> contracts<br><b>Preview:</b> # Contract with Velocity Auto Solutions for Carllm\n\n**Contract Date:** October 1, 2023  \n**Contract Number:** C-12345-2023  \n**Client:** Velocity Auto Solutions  \n**Product:** Carllm Auto Insurance So...",
          "<b>Type:</b> contracts<br><b>Preview:</b> ## Renewal\n\n1. **Automatic Renewal**: This contract will automatically renew for successive 12-month periods unless either party provides written notice at least 30 days prior to the end of the initia...",
          "<b>Type:</b> contracts<br><b>Preview:</b> ## Support\n\n1. **Customer Support**: Velocity Auto Solutions will have access to Insurellm’s customer support team via email or chatbot, available 24/7.  \n2. **Technical Maintenance**: Regular mainten...",
          "<b>Type:</b> employees<br><b>Preview:</b> # HR Record\n\n# Alex Chen\n\n## Summary\n- **Date of Birth:** March 15, 1990  \n- **Job Title:** Backend Software Engineer  \n- **Location:** San Francisco, California  \n\n## Insurellm Career Progression\n- *...",
          "<b>Type:</b> employees<br><b>Preview:</b> ## Annual Performance History\n- **2020:**  \n  - Completed onboarding successfully.  \n  - Met expectations in delivering project milestones.  \n  - Received positive feedback from the team leads.\n\n- **2...",
          "<b>Type:</b> employees<br><b>Preview:</b> ## Compensation History\n- **2020:** Base Salary: $80,000  \n- **2021:** Base Salary Increase to $90,000; Received a performance bonus of $5,000.  \n- **2022:** Base Salary Increase to $100,000; Performa...",
          "<b>Type:</b> employees<br><b>Preview:</b> Alex Chen continues to be a vital asset at Insurellm, contributing significantly to innovative backend solutions that help shape the future of insurance technology....",
          "<b>Type:</b> employees<br><b>Preview:</b> # HR Record\n\n# Alex Harper\n\n## Summary\n- **Date of Birth**: March 15, 1993  \n- **Job Title**: Sales Development Representative (SDR)  \n- **Location**: Denver, Colorado  \n\n## Insurellm Career Progressi...",
          "<b>Type:</b> employees<br><b>Preview:</b> ## Annual Performance History  \n- **2021**:  \n  - **Performance Rating**: 4.5/5  \n  - **Key Achievements**: Exceeded lead generation targets by 30%. Introduced a new CRM analytics tool resulting in im...",
          "<b>Type:</b> employees<br><b>Preview:</b> - **2022**:  \n  - **Base Salary**: $65,000 (Promotion to Senior SDR)  \n  - **Bonus**: $13,000 (20% of base due to performance)  \n\n- **2023**:  \n  - **Base Salary**: $75,000  \n  - **Bonus**: $15,000 (2...",
          "<b>Type:</b> employees<br><b>Preview:</b> # HR Record\n\n# Alex Thomson\n\n## Summary\n- **Date of Birth:** March 15, 1995  \n- **Job Title:** Sales Development Representative (SDR)  \n- **Location:** Austin, Texas  \n\n## Insurellm Career Progression...",
          "<b>Type:</b> employees<br><b>Preview:</b> ## Annual Performance History  \n- **2022** - Rated as \"Exceeds Expectations.\" Alex Thomson achieved 150% of the sales target within the first three months.  \n- **2023** - Rated \"Outstanding.\" Recogniz...",
          "<b>Type:</b> employees<br><b>Preview:</b> ## Other HR Notes\n- Alex Thomson is an active member of the Diversity and Inclusion committee at Insurellm and has participated in various community outreach programs.  \n- Alex has received external t...",
          "<b>Type:</b> employees<br><b>Preview:</b> # Avery Lancaster\n\n## Summary\n- **Date of Birth**: March 15, 1985  \n- **Job Title**: Co-Founder & Chief Executive Officer (CEO)  \n- **Location**: San Francisco, California  \n\n## Insurellm Career Progr...",
          "<b>Type:</b> employees<br><b>Preview:</b> - **2010 - 2013**: Business Analyst at Edge Analytics  \n  Prior to joining Innovate, Avery worked as a Business Analyst, focusing on market trends and consumer preferences in the insurance space. This...",
          "<b>Type:</b> employees<br><b>Preview:</b> - **2018**: **Exceeds Expectations**  \n  Under Avery’s pivoted vision, Insurellm launched two new successful products that significantly increased market share.  \n\n- **2019**: **Meets Expectations**  ...",
          "<b>Type:</b> employees<br><b>Preview:</b> - **2022**: **Satisfactory**  \n  Avery focused on rebuilding team dynamics and addressing employee concerns, leading to overall improvement despite a saturated market.  \n\n- **2023**: **Exceeds Expecta...",
          "<b>Type:</b> employees<br><b>Preview:</b> ## Compensation History\n- **2015**: $150,000 base salary + Significant equity stake  \n- **2016**: $160,000 base salary + Equity increase  \n- **2017**: $150,000 base salary + Decrease in bonus due to p...",
          "<b>Type:</b> employees<br><b>Preview:</b> ## Other HR Notes\n- **Professional Development**: Avery has actively participated in leadership training programs and industry conferences, representing Insurellm and fostering partnerships.  \n- **Div...",
          "<b>Type:</b> employees<br><b>Preview:</b> # HR Record\n\n# Emily Carter\n\n## Summary\n- **Date of Birth:** August 12, 1990  \n- **Job Title:** Account Executive  \n- **Location:** Austin, Texas  \n\n## Insurellm Career Progression\n- **2021-Present:**...",
          "<b>Type:</b> employees<br><b>Preview:</b> - **2017-2019:** Marketing Intern  \n  - Assisted with market research and campaign development for social media outreach.  \n  - Achievements:  \n    - Contributed ideas for a social media campaign that...",
          "<b>Type:</b> employees<br><b>Preview:</b> ## Compensation History\n| Year | Base Salary | Bonus         | Total Compensation |\n|------|-------------|---------------|--------------------|\n| 2023 | $70,000     | $10,000       | $80,000          ...",
          "<b>Type:</b> employees<br><b>Preview:</b> Emily Carter exemplifies the kind of talent that drives Insurellm's success and is an invaluable asset to the company....",
          "<b>Type:</b> employees<br><b>Preview:</b> # HR Record\n\n# Emily Tran\n\n## Summary\n- **Date of Birth:** March 18, 1991  \n- **Job Title:** Digital Marketing Specialist  \n- **Location:** San Francisco, CA  \n\n---\n\n## Insurellm Career Progression\n- ...",
          "<b>Type:</b> employees<br><b>Preview:</b> - **January 2017 - May 2018**: Marketing Intern  \n  - Supported the Marketing team by collaborating on content creation and digital advertising projects.\n  - Gained hands-on experience with marketing ...",
          "<b>Type:</b> employees<br><b>Preview:</b> - **2021**:  \n  - Performance Rating: Meets Expectations  \n  - Key Achievements: Contributed to the launch of a customer referral program that resulted in a 15% growth in B2C customers.\n\n---\n\n## Compe...",
          "<b>Type:</b> employees<br><b>Preview:</b> - **Professional Development Goals**:  \n  - Emily Tran aims to become a Marketing Manager within the next two years, focusing on leading larger campaigns and developing junior team members.\n\n- **Hobbi...",
          "<b>Type:</b> employees<br><b>Preview:</b> # HR Record\n\n# Jordan Blake\n\n## Summary\n- **Date of Birth:** March 15, 1993  \n- **Job Title:** Sales Development Representative (SDR)  \n- **Location:** Austin, Texas  \n\n## Insurellm Career Progression...",
          "<b>Type:</b> employees<br><b>Preview:</b> ## Annual Performance History\n- **2021:** First year at Insurellm; achieved 90% of monthly targets.  \n  - **Feedback:** Strong potential shown in lead generation; needs improvement in follow-up techni...",
          "<b>Type:</b> employees<br><b>Preview:</b> ## Other HR Notes\n- Jordan has shown an interest in continuing education, actively participating in company-sponsored sales webinars.  \n- Notable for involvement in the Insurellm volunteer program, as...",
          "<b>Type:</b> employees<br><b>Preview:</b> # HR Record\n\n# Jordan K. Bishop\n\n## Summary\n- **Date of Birth:** March 15, 1990\n- **Job Title:** Frontend Software Engineer\n- **Location:** Austin, Texas\n\n## Insurellm Career Progression\n- **June 2018...",
          "<b>Type:</b> employees<br><b>Preview:</b> ## Annual Performance History\n- **2019:** Exceeds Expectations - Continuously delivered high-quality code and participated actively in team meetings.\n- **2020:** Meets Expectations - Jordan K. Bishop ...",
          "<b>Type:</b> employees<br><b>Preview:</b> ## Compensation History\n- **June 2018:** Starting Salary - $85,000\n- **June 2019:** Salary Increase - $95,000 (Promotion to Senior Engineer)\n- **June 2021:** Salary Increase - $105,000 with bonus for ...",
          "<b>Type:</b> employees<br><b>Preview:</b> ## Other HR Notes\n- Jordan K. Bishop has been an integral part of club initiatives, including the Insurellm Code Reviews and Feedback Group, providing peer support.\n- Active participant in the company...",
          "<b>Type:</b> employees<br><b>Preview:</b> # HR Record\n\n# Maxine Thompson\n\n## Summary\n- **Date of Birth:** January 15, 1991  \n- **Job Title:** Data Engineer  \n- **Location:** Austin, Texas...",
          "<b>Type:</b> employees<br><b>Preview:</b> ## Insurellm Career Progression\n- **January 2017 - October 2018**: **Junior Data Engineer**  \n  * Maxine joined Insurellm as a Junior Data Engineer, focusing primarily on ETL processes and data integr...",
          "<b>Type:</b> employees<br><b>Preview:</b> ## Annual Performance History\n- **2017**: *Meets Expectations*  \n  Maxine showed potential in her role but struggled with initial project deadlines. Her adaptability and willingness to learn made posi...",
          "<b>Type:</b> employees<br><b>Preview:</b> - **2021**: *Exceeds Expectations*  \n  Maxine spearheaded the transition to a new data warehousing solution, significantly enhancing Insurellm’s data analytics capabilities. This major achievement bol...",
          "<b>Type:</b> employees<br><b>Preview:</b> ## Compensation History\n- **2017**: $70,000 (Junior Data Engineer)  \n- **2018**: $75,000 (Junior Data Engineer)  \n- **2019**: $80,000 (Data Engineer)  \n- **2020**: $84,000 (Data Engineer)  \n- **2021**...",
          "<b>Type:</b> employees<br><b>Preview:</b> # HR Record\n\n# Oliver Spencer\n\n## Summary\n- **Date of Birth**: May 14, 1990  \n- **Job Title**: Backend Software Engineer  \n- **Location**: Austin, Texas  \n\n## Insurellm Career Progression\n- **March 20...",
          "<b>Type:</b> employees<br><b>Preview:</b> ## Annual Performance History\n- **2018**: **3/5** - Adaptable team player but still learning to take initiative.\n- **2019**: **4/5** - Demonstrated strong problem-solving skills, outstanding contribut...",
          "<b>Type:</b> employees<br><b>Preview:</b> ## Compensation History\n- **March 2018**: Initial salary of $80,000.\n- **July 2019**: Salary increased to $90,000 post-promotion.\n- **June 2021**: Salary raised to $105,000 after role transition.\n- **...",
          "<b>Type:</b> employees<br><b>Preview:</b> # Samantha Greene\n\n## Summary\n- **Date of Birth:** October 14, 1990\n- **Job Title:** HR Generalist\n- **Location:** Denver, Colorado\n\n## Insurellm Career Progression\n- **2020** - Joined Insurellm as a ...",
          "<b>Type:</b> employees<br><b>Preview:</b> ## Annual Performance History\n- **2020:** Exceeds Expectations  \n  Samantha Greene demonstrated exceptional organizational skills and contributed to a streamlined onboarding process, earning commendat...",
          "<b>Type:</b> employees<br><b>Preview:</b> ## Compensation History\n- **2020:** Base Salary - $55,000  \n  The entry-level salary matched industry standards for HR Coordinators with limited experience.\n\n- **2021:** Base Salary - $65,000  \n  Foll...",
          "<b>Type:</b> employees<br><b>Preview:</b> - **2023:** Base Salary - $70,000  \n  Recognized for substantial improvement in employee relations management and contributions to company culture, leading to a well-deserved increase.\n\n## Other HR No...",
          "<b>Type:</b> employees<br><b>Preview:</b> # HR Record\n\n# Samuel Trenton\n\n## Summary\n- **Date of Birth:** April 12, 1989  \n- **Job Title:** Senior Data Scientist  \n- **Location:** Austin, Texas  \n\n## Insurellm Career Progression\n- **January 20...",
          "<b>Type:</b> employees<br><b>Preview:</b> ## Annual Performance History\n- **2023:** Rating: 4.5/5  \n  *Samuel exceeded expectations, successfully leading a cross-departmental project on AI-driven underwriting processes.*\n\n- **2022:** Rating: ...",
          "<b>Type:</b> employees<br><b>Preview:</b> ## Compensation History\n- **2023:** Base Salary: $115,000 + Bonus: $15,000  \n  *Annual bonus based on successful project completions and performance metrics.*\n\n- **2022:** Base Salary: $110,000 + Bonu...",
          "<b>Type:</b> employees<br><b>Preview:</b> - **Engagement in Company Culture:** Regularly participates in team-building events and contributes to the internal newsletter, sharing insights on data science trends.\n\n- **Areas for Improvement:** C...",
          "<b>Type:</b> products<br><b>Preview:</b> # Product Summary\n\n# Carllm\n\n## Summary\n\nCarllm is an innovative auto insurance product developed by Insurellm, designed to streamline the way insurance companies offer coverage to their customers. Po...",
          "<b>Type:</b> products<br><b>Preview:</b> - **Instant Quoting**: With Carllm, insurance companies can offer near-instant quotes to customers, enhancing the customer experience. The AI engine processes data in real-time, drastically reducing t...",
          "<b>Type:</b> products<br><b>Preview:</b> - **Mobile Integration**: Carllm is designed to work seamlessly with mobile applications, providing both insurers and end-users access to policy management and claims reporting on the go.\n\n- **Automat...",
          "<b>Type:</b> products<br><b>Preview:</b> - **Professional Tier**: $2,500/month\n  - For medium-sized companies.\n  - All Basic Tier features plus advanced analytics and fraud detection.\n\n- **Enterprise Tier**: $5,000/month\n  - Customized solut...",
          "<b>Type:</b> products<br><b>Preview:</b> ### Q2 2025: Customer Experience Improvements\n- Launch of a new **mobile app** for end-users.\n- Introduction of **telematics-based pricing** to provide even more tailored coverage options.\n\n### Q3 202...",
          "<b>Type:</b> products<br><b>Preview:</b> # Product Summary\n\n# Homellm\n\n## Summary\nHomellm is an innovative home insurance product developed by Insurellm that leverages advanced AI technology to revolutionize the way insurance providers offer...",
          "<b>Type:</b> products<br><b>Preview:</b> ### 2. Dynamic Pricing Model\nWith Homellm's innovative dynamic pricing model, insurance providers can offer flexible premiums based on real-time risk evaluations and historical data. This adaptability...",
          "<b>Type:</b> products<br><b>Preview:</b> ### 5. Multi-Channel Integration\nHomellm seamlessly integrates into existing insurance platforms, providing a centralized hub for managing customer policies and claims. Insurance providers can easily ...",
          "<b>Type:</b> products<br><b>Preview:</b> - **Basic Tier:** Starting at $5,000/month for small insurers with basic integration features.\n- **Standard Tier:** Starting at $10,000/month for medium-sized insurers including advanced analytics and...",
          "<b>Type:</b> products<br><b>Preview:</b> All tiers include a comprehensive training program and ongoing updates to ensure optimal performance.\n\n## Roadmap\nThe development roadmap for Homellm includes the following key milestones:\n\n- **Q1 202...",
          "<b>Type:</b> products<br><b>Preview:</b> With Homellm, Insurellm is committed to transforming the landscape of home insurance, ensuring both innovation and reliability for all insurance providers and their customers. Explore the future of ho...",
          "<b>Type:</b> products<br><b>Preview:</b> # Product Summary\n\n# Markellm\n\n## Summary\n\nMarkellm is an innovative two-sided marketplace designed to seamlessly connect consumers with insurance companies. Powered by advanced matching AI, Markellm ...",
          "<b>Type:</b> products<br><b>Preview:</b> - **User-Friendly Interface**: Designed with user experience in mind, Markellm features an intuitive interface that allows consumers to easily browse and compare various insurance offerings from multi...",
          "<b>Type:</b> products<br><b>Preview:</b> - **Customer Support**: Our dedicated support team is always available to assist both consumers and insurers throughout the process, providing guidance and answering any questions that may arise.\n\n- *...",
          "<b>Type:</b> products<br><b>Preview:</b> ### For Insurance Companies:\n- **Basic Listing Fee**: $199/month for a featured listing on the platform, providing exposure to thousands of potential customers.\n- **Performance-Based Pricing**: Option...",
          "<b>Type:</b> products<br><b>Preview:</b> ### Q3 2025\n- Initiate a comprehensive marketing campaign targeting both consumers and insurers to increase user acquisition and brand awareness.\n- Release user testimonials and case studies showcasin...",
          "<b>Type:</b> products<br><b>Preview:</b> # Product Summary\n\n# Rellm: AI-Powered Enterprise Reinsurance Solution\n\n## Summary\n\nRellm is an innovative enterprise reinsurance product developed by Insurellm, designed to transform the way reinsura...",
          "<b>Type:</b> products<br><b>Preview:</b> ### Seamless Integrations\nRellm's architecture is designed for effortless integration with existing systems. Whether it's policy management, claims processing, or financial reporting, Rellm connects s...",
          "<b>Type:</b> products<br><b>Preview:</b> ### Regulatory Compliance Tools\nRellm includes built-in compliance tracking features to help organizations meet local and international regulatory standards. This ensures that reinsurance practices re...",
          "<b>Type:</b> products<br><b>Preview:</b> Join the growing number of organizations leveraging Rellm to enhance their reinsurance processes while driving profitability and compliance. \n\n## 2025-2026 Roadmap\n\nAt Insurellm, we are committed to t...",
          "<b>Type:</b> products<br><b>Preview:</b> Experience the future of reinsurance with Rellm, where innovation meets reliability. Let Insurellm help you navigate the complexities of the reinsurance market smarter and faster...."
         ],
         "type": "scatter3d",
         "x": {
          "bdata": "kYLfwYpqqcHRqcw+f72SwRbxx0ECU4tB+KcGwUXfIUKzzmvBJCHAQVgQT0IweYbAKhSPQS5lIsEvtHNCL/WGQk2ai8LRVEfBMZcyQURVhkG+6eTBPA42Qj6PD8LN5iNC5GmiQqf6PEEYYFJCP3FLwnG5IELTsaxCKIjXwWOYD0LwBmbCL9aewoMLk0K7C9XBnl9Xwqi4o0HjKb9CChcUwi3ul8LTdrNBUD2vQmALU8J9+evBZg2ZwNMMrUDTQ2LBhcuBwjQqgUKEXRvCgCpMwjskgMLSiIpC5xbCwVYiksJa/sxBEmazP2McC8H0JUHCew7lwTeeI8LPr6PC8s39wbMMCMIGxb1AIyjXQaVzQEJE5ktCiXJxP70ICkBYq5jCPRr/wIfER8IoRKzBnkWEQrPCO8LJE9PBICwowhboVsL4pJPB8rMOwt+RjML/g6ZB1aJhQV88TsJ+uZ3Cd4AOQlLWAEKMTUVCZiS4QdYCusJdqQFAHjM2QLTr9sFIf9dAmoqewDeNgMF5uJ3CUrCOQeB128BTi8DBlqY7Qtw6jEKZ0mFCNB9fQkTXtsJSNS9CQ7SFQl8YL0IHl3BCXwyPQtaZm0GPZeVB6ey7QrboK0Jb2MJBb+Gowjr/DkKEV9VBqAF/wNwCDcCTketA",
          "dtype": "f4"
         },
         "y": {
          "bdata": "VFukwgbUX0BdCplBcjGkQmq5FULU2ezBHSDeQS4lsEIxe2dCair9QRpH3EGlfdHCUWSTQpHl7ED8h0pCISVZQoQCOkIMu3xC9npIQvp7gEIKSz9BljRUQrlLd0K5TEhCi5xwQfm2PcHg15pCU0dvQvxTskJudIhB34VHQv1Ns0K39KJCVvYrQTiOa0FTQ6VCt1xaQuUWW0KQRAtC7HT/QVgMI0H6PpFCAaaawY3aRr7n9DtCOXs2QpliDUGzb9VBCucGwe9k3MBvtoXBPwYLwiqZkEFq2OnBZXhKwNere8L+LKfCrASRwU7/MMJhLoTCz4GnwcJkCcJSvUtCtLsHwfX0hcLCaJjCZVN/wnoTisLt7ZrCo2wsQQb/mcKK9ozBRm45wq7tMr9cGz7C1AiHwWmlD8Ca3itBwPGdQeS+H8LN9HrBcOQIwsD+C8I1ZHLCCAZIwV3OFcJBaSTCkuXswQV8dMKl3EnC30TBwb5nP8KIxp3CVam/QE+qjMIs+4rC8rdIwtYnSMLpy2vCEOfSwktIhsGF+8nCvbXFwaIpu8FW2urBC4+PwQrB4MBoQjlCSEwJQm/KqEG+lz0/m63BQdemDkIBdtJBvRYewdtXwT/knhLBetZLQVwO7kAUqB/BFnxlwZoMr0IMeFFC",
          "dtype": "f4"
         },
         "z": {
          "bdata": "rhwbwt2IEEApAQdBnhFuwlTVfcItwnbCSsPHwb17XkLCky1Cp8rNwoC+/MEl+HpCkYk2Qkkx0sLRy3HC0dgHwt1YyUGadizCGpE6whgv1cErxoXCFnRtQiyUwUGFSbnCuiwgwtPPocE7JA9C1L5vwE+iQcI61TFBoYzVwPJ3vUFbmpjBzT4wwxmISsEY2F/BrA3+wfbf0cLgbijBtQW0wVtBm8LHSJ7CZYG3Qa6K3sGHIILCcPybwoe6YMKwg1HCNk9xwoVqi0Kgiz/CBb1swqjLUML9JopC2K3/wUor4EDYHf9BeYFKQlfZh8Gx/u1BQrFsQk2FoELIEnXCHGnDQoWy4r9wribCj8xBwTuU2z/HkpPB8LanQuLDnME5dhhCp9u3Qd85gUJyABvCDVacwmyqyUGYooRCj6wNQnIBAkKtvAlC+HLlQP3dpkDfvqhBQ63AQmF2MMHS8H9CDLc1Qn+0QkJjUwNCT1uLQqgmSkHsAMNBuflKQuD5dUIkdmBCC6mhQvjRZ0JiCxJCXyA3QSWvmkL+KZZBqtESwjmH/METN/bAsoNNQZJFvMGGWPVArNPGQNkXmEHM7/xBfhohQgP9uEGWbYnBVRWLwa9fXcEQxrs/87dZwIDXUcI2VJTC44OYwsIuRkF1lUFA",
          "dtype": "f4"
         }
        }
       ],
       "layout": {
        "height": 750,
        "margin": {
         "b": 40,
         "l": 40,
         "r": 40,
         "t": 80
        },
        "scene": {
         "bgcolor": "rgba(255,255,255,0.95)",
         "xaxis": {
          "title": {
           "text": "t-SNE X"
          }
         },
         "yaxis": {
          "title": {
           "text": "t-SNE Y"
          }
         },
         "zaxis": {
          "title": {
           "text": "t-SNE Z"
          }
         }
        },
        "template": {
         "data": {
          "bar": [
           {
            "error_x": {
             "color": "#2a3f5f"
            },
            "error_y": {
             "color": "#2a3f5f"
            },
            "marker": {
             "line": {
              "color": "#E5ECF6",
              "width": 0.5
             },
             "pattern": {
              "fillmode": "overlay",
              "size": 10,
              "solidity": 0.2
             }
            },
            "type": "bar"
           }
          ],
          "barpolar": [
           {
            "marker": {
             "line": {
              "color": "#E5ECF6",
              "width": 0.5
             },
             "pattern": {
              "fillmode": "overlay",
              "size": 10,
              "solidity": 0.2
             }
            },
            "type": "barpolar"
           }
          ],
          "carpet": [
           {
            "aaxis": {
             "endlinecolor": "#2a3f5f",
             "gridcolor": "white",
             "linecolor": "white",
             "minorgridcolor": "white",
             "startlinecolor": "#2a3f5f"
            },
            "baxis": {
             "endlinecolor": "#2a3f5f",
             "gridcolor": "white",
             "linecolor": "white",
             "minorgridcolor": "white",
             "startlinecolor": "#2a3f5f"
            },
            "type": "carpet"
           }
          ],
          "choropleth": [
           {
            "colorbar": {
             "outlinewidth": 0,
             "ticks": ""
            },
            "type": "choropleth"
           }
          ],
          "contour": [
           {
            "colorbar": {
             "outlinewidth": 0,
             "ticks": ""
            },
            "colorscale": [
             [
              0,
              "#0d0887"
             ],
             [
              0.1111111111111111,
              "#46039f"
             ],
             [
              0.2222222222222222,
              "#7201a8"
             ],
             [
              0.3333333333333333,
              "#9c179e"
             ],
             [
              0.4444444444444444,
              "#bd3786"
             ],
             [
              0.5555555555555556,
              "#d8576b"
             ],
             [
              0.6666666666666666,
              "#ed7953"
             ],
             [
              0.7777777777777778,
              "#fb9f3a"
             ],
             [
              0.8888888888888888,
              "#fdca26"
             ],
             [
              1,
              "#f0f921"
             ]
            ],
            "type": "contour"
           }
          ],
          "contourcarpet": [
           {
            "colorbar": {
             "outlinewidth": 0,
             "ticks": ""
            },
            "type": "contourcarpet"
           }
          ],
          "heatmap": [
           {
            "colorbar": {
             "outlinewidth": 0,
             "ticks": ""
            },
            "colorscale": [
             [
              0,
              "#0d0887"
             ],
             [
              0.1111111111111111,
              "#46039f"
             ],
             [
              0.2222222222222222,
              "#7201a8"
             ],
             [
              0.3333333333333333,
              "#9c179e"
             ],
             [
              0.4444444444444444,
              "#bd3786"
             ],
             [
              0.5555555555555556,
              "#d8576b"
             ],
             [
              0.6666666666666666,
              "#ed7953"
             ],
             [
              0.7777777777777778,
              "#fb9f3a"
             ],
             [
              0.8888888888888888,
              "#fdca26"
             ],
             [
              1,
              "#f0f921"
             ]
            ],
            "type": "heatmap"
           }
          ],
          "histogram": [
           {
            "marker": {
             "pattern": {
              "fillmode": "overlay",
              "size": 10,
              "solidity": 0.2
             }
            },
            "type": "histogram"
           }
          ],
          "histogram2d": [
           {
            "colorbar": {
             "outlinewidth": 0,
             "ticks": ""
            },
            "colorscale": [
             [
              0,
              "#0d0887"
             ],
             [
              0.1111111111111111,
              "#46039f"
             ],
             [
              0.2222222222222222,
              "#7201a8"
             ],
             [
              0.3333333333333333,
              "#9c179e"
             ],
             [
              0.4444444444444444,
              "#bd3786"
             ],
             [
              0.5555555555555556,
              "#d8576b"
             ],
             [
              0.6666666666666666,
              "#ed7953"
             ],
             [
              0.7777777777777778,
              "#fb9f3a"
             ],
             [
              0.8888888888888888,
              "#fdca26"
             ],
             [
              1,
              "#f0f921"
             ]
            ],
            "type": "histogram2d"
           }
          ],
          "histogram2dcontour": [
           {
            "colorbar": {
             "outlinewidth": 0,
             "ticks": ""
            },
            "colorscale": [
             [
              0,
              "#0d0887"
             ],
             [
              0.1111111111111111,
              "#46039f"
             ],
             [
              0.2222222222222222,
              "#7201a8"
             ],
             [
              0.3333333333333333,
              "#9c179e"
             ],
             [
              0.4444444444444444,
              "#bd3786"
             ],
             [
              0.5555555555555556,
              "#d8576b"
             ],
             [
              0.6666666666666666,
              "#ed7953"
             ],
             [
              0.7777777777777778,
              "#fb9f3a"
             ],
             [
              0.8888888888888888,
              "#fdca26"
             ],
             [
              1,
              "#f0f921"
             ]
            ],
            "type": "histogram2dcontour"
           }
          ],
          "mesh3d": [
           {
            "colorbar": {
             "outlinewidth": 0,
             "ticks": ""
            },
            "type": "mesh3d"
           }
          ],
          "parcoords": [
           {
            "line": {
             "colorbar": {
              "outlinewidth": 0,
              "ticks": ""
             }
            },
            "type": "parcoords"
           }
          ],
          "pie": [
           {
            "automargin": true,
            "type": "pie"
           }
          ],
          "scatter": [
           {
            "fillpattern": {
             "fillmode": "overlay",
             "size": 10,
             "solidity": 0.2
            },
            "type": "scatter"
           }
          ],
          "scatter3d": [
           {
            "line": {
             "colorbar": {
              "outlinewidth": 0,
              "ticks": ""
             }
            },
            "marker": {
             "colorbar": {
              "outlinewidth": 0,
              "ticks": ""
             }
            },
            "type": "scatter3d"
           }
          ],
          "scattercarpet": [
           {
            "marker": {
             "colorbar": {
              "outlinewidth": 0,
              "ticks": ""
             }
            },
            "type": "scattercarpet"
           }
          ],
          "scattergeo": [
           {
            "marker": {
             "colorbar": {
              "outlinewidth": 0,
              "ticks": ""
             }
            },
            "type": "scattergeo"
           }
          ],
          "scattergl": [
           {
            "marker": {
             "colorbar": {
              "outlinewidth": 0,
              "ticks": ""
             }
            },
            "type": "scattergl"
           }
          ],
          "scattermap": [
           {
            "marker": {
             "colorbar": {
              "outlinewidth": 0,
              "ticks": ""
             }
            },
            "type": "scattermap"
           }
          ],
          "scattermapbox": [
           {
            "marker": {
             "colorbar": {
              "outlinewidth": 0,
              "ticks": ""
             }
            },
            "type": "scattermapbox"
           }
          ],
          "scatterpolar": [
           {
            "marker": {
             "colorbar": {
              "outlinewidth": 0,
              "ticks": ""
             }
            },
            "type": "scatterpolar"
           }
          ],
          "scatterpolargl": [
           {
            "marker": {
             "colorbar": {
              "outlinewidth": 0,
              "ticks": ""
             }
            },
            "type": "scatterpolargl"
           }
          ],
          "scatterternary": [
           {
            "marker": {
             "colorbar": {
              "outlinewidth": 0,
              "ticks": ""
             }
            },
            "type": "scatterternary"
           }
          ],
          "surface": [
           {
            "colorbar": {
             "outlinewidth": 0,
             "ticks": ""
            },
            "colorscale": [
             [
              0,
              "#0d0887"
             ],
             [
              0.1111111111111111,
              "#46039f"
             ],
             [
              0.2222222222222222,
              "#7201a8"
             ],
             [
              0.3333333333333333,
              "#9c179e"
             ],
             [
              0.4444444444444444,
              "#bd3786"
             ],
             [
              0.5555555555555556,
              "#d8576b"
             ],
             [
              0.6666666666666666,
              "#ed7953"
             ],
             [
              0.7777777777777778,
              "#fb9f3a"
             ],
             [
              0.8888888888888888,
              "#fdca26"
             ],
             [
              1,
              "#f0f921"
             ]
            ],
            "type": "surface"
           }
          ],
          "table": [
           {
            "cells": {
             "fill": {
              "color": "#EBF0F8"
             },
             "line": {
              "color": "white"
             }
            },
            "header": {
             "fill": {
              "color": "#C8D4E3"
             },
             "line": {
              "color": "white"
             }
            },
            "type": "table"
           }
          ]
         },
         "layout": {
          "annotationdefaults": {
           "arrowcolor": "#2a3f5f",
           "arrowhead": 0,
           "arrowwidth": 1
          },
          "autotypenumbers": "strict",
          "coloraxis": {
           "colorbar": {
            "outlinewidth": 0,
            "ticks": ""
           }
          },
          "colorscale": {
           "diverging": [
            [
             0,
             "#8e0152"
            ],
            [
             0.1,
             "#c51b7d"
            ],
            [
             0.2,
             "#de77ae"
            ],
            [
             0.3,
             "#f1b6da"
            ],
            [
             0.4,
             "#fde0ef"
            ],
            [
             0.5,
             "#f7f7f7"
            ],
            [
             0.6,
             "#e6f5d0"
            ],
            [
             0.7,
             "#b8e186"
            ],
            [
             0.8,
             "#7fbc41"
            ],
            [
             0.9,
             "#4d9221"
            ],
            [
             1,
             "#276419"
            ]
           ],
           "sequential": [
            [
             0,
             "#0d0887"
            ],
            [
             0.1111111111111111,
             "#46039f"
            ],
            [
             0.2222222222222222,
             "#7201a8"
            ],
            [
             0.3333333333333333,
             "#9c179e"
            ],
            [
             0.4444444444444444,
             "#bd3786"
            ],
            [
             0.5555555555555556,
             "#d8576b"
            ],
            [
             0.6666666666666666,
             "#ed7953"
            ],
            [
             0.7777777777777778,
             "#fb9f3a"
            ],
            [
             0.8888888888888888,
             "#fdca26"
            ],
            [
             1,
             "#f0f921"
            ]
           ],
           "sequentialminus": [
            [
             0,
             "#0d0887"
            ],
            [
             0.1111111111111111,
             "#46039f"
            ],
            [
             0.2222222222222222,
             "#7201a8"
            ],
            [
             0.3333333333333333,
             "#9c179e"
            ],
            [
             0.4444444444444444,
             "#bd3786"
            ],
            [
             0.5555555555555556,
             "#d8576b"
            ],
            [
             0.6666666666666666,
             "#ed7953"
            ],
            [
             0.7777777777777778,
             "#fb9f3a"
            ],
            [
             0.8888888888888888,
             "#fdca26"
            ],
            [
             1,
             "#f0f921"
            ]
           ]
          },
          "colorway": [
           "#636efa",
           "#EF553B",
           "#00cc96",
           "#ab63fa",
           "#FFA15A",
           "#19d3f3",
           "#FF6692",
           "#B6E880",
           "#FF97FF",
           "#FECB52"
          ],
          "font": {
           "color": "#2a3f5f"
          },
          "geo": {
           "bgcolor": "white",
           "lakecolor": "white",
           "landcolor": "#E5ECF6",
           "showlakes": true,
           "showland": true,
           "subunitcolor": "white"
          },
          "hoverlabel": {
           "align": "left"
          },
          "hovermode": "closest",
          "mapbox": {
           "style": "light"
          },
          "paper_bgcolor": "white",
          "plot_bgcolor": "#E5ECF6",
          "polar": {
           "angularaxis": {
            "gridcolor": "white",
            "linecolor": "white",
            "ticks": ""
           },
           "bgcolor": "#E5ECF6",
           "radialaxis": {
            "gridcolor": "white",
            "linecolor": "white",
            "ticks": ""
           }
          },
          "scene": {
           "xaxis": {
            "backgroundcolor": "#E5ECF6",
            "gridcolor": "white",
            "gridwidth": 2,
            "linecolor": "white",
            "showbackground": true,
            "ticks": "",
            "zerolinecolor": "white"
           },
           "yaxis": {
            "backgroundcolor": "#E5ECF6",
            "gridcolor": "white",
            "gridwidth": 2,
            "linecolor": "white",
            "showbackground": true,
            "ticks": "",
            "zerolinecolor": "white"
           },
           "zaxis": {
            "backgroundcolor": "#E5ECF6",
            "gridcolor": "white",
            "gridwidth": 2,
            "linecolor": "white",
            "showbackground": true,
            "ticks": "",
            "zerolinecolor": "white"
           }
          },
          "shapedefaults": {
           "line": {
            "color": "#2a3f5f"
           }
          },
          "ternary": {
           "aaxis": {
            "gridcolor": "white",
            "linecolor": "white",
            "ticks": ""
           },
           "baxis": {
            "gridcolor": "white",
            "linecolor": "white",
            "ticks": ""
           },
           "bgcolor": "#E5ECF6",
           "caxis": {
            "gridcolor": "white",
            "linecolor": "white",
            "ticks": ""
           }
          },
          "title": {
           "x": 0.05
          },
          "xaxis": {
           "automargin": true,
           "gridcolor": "white",
           "linecolor": "white",
           "ticks": "",
           "title": {
            "standoff": 15
           },
           "zerolinecolor": "white",
           "zerolinewidth": 2
          },
          "yaxis": {
           "automargin": true,
           "gridcolor": "white",
           "linecolor": "white",
           "ticks": "",
           "title": {
            "standoff": 15
           },
           "zerolinecolor": "white",
           "zerolinewidth": 2
          }
         }
        },
        "title": {
         "text": "3D Visualization of Chroma Vector Embeddings"
        },
        "width": 950
       }
      }
     },
     "metadata": {},
     "output_type": "display_data"
    }
   ],
   "source": [
    "# Model in 3D version\n",
    "\n",
    "tsne = TSNE(n_components=3, perplexity=30, max_iter=1000, random_state=42)\n",
    "reduced_vectors = tsne.fit_transform(vectors)\n",
    "\n",
    "# Build the 3D scatter plot using Plotly\n",
    "\n",
    "import plotly.graph_objects as go\n",
    "\n",
    "fig = go.Figure(data=[go.Scatter3d(\n",
    "    x=reduced_vectors[:, 0],\n",
    "    y=reduced_vectors[:, 1],\n",
    "    z=reduced_vectors[:, 2],\n",
    "    mode='markers',\n",
    "    marker=dict(\n",
    "        size=6,\n",
    "        color=colors,\n",
    "        opacity=0.85,\n",
    "        line=dict(width=0.5, color='black')\n",
    "    ),\n",
    "    text=[f\"<b>Type:</b> {t}<br><b>Preview:</b> {d[:200]}...\" for t, d in zip(doc_types, documents)],\n",
    "    hoverinfo='text'\n",
    ")])\n",
    "\n",
    "fig.update_layout(\n",
    "    title='3D Visualization of Chroma Vector Embeddings',\n",
    "    scene=dict(\n",
    "        xaxis=dict(title='t-SNE X'),\n",
    "        yaxis=dict(title='t-SNE Y'),\n",
    "        zaxis=dict(title='t-SNE Z'),\n",
    "        bgcolor='rgba(255,255,255,0.95)'\n",
    "    ),\n",
    "    width=950,\n",
    "    height=750,\n",
    "    margin=dict(l=40, r=40, b=40, t=80)\n",
    ")\n",
    "\n",
    "fig.show()"
   ]
  },
  {
   "cell_type": "code",
   "execution_count": null,
   "id": "a2d39e16",
   "metadata": {},
   "outputs": [],
   "source": []
  }
 ],
 "metadata": {
  "kernelspec": {
   "display_name": ".venv",
   "language": "python",
   "name": "python3"
  },
  "language_info": {
   "codemirror_mode": {
    "name": "ipython",
    "version": 3
   },
   "file_extension": ".py",
   "mimetype": "text/x-python",
   "name": "python",
   "nbconvert_exporter": "python",
   "pygments_lexer": "ipython3",
   "version": "3.11.9"
  }
 },
 "nbformat": 4,
 "nbformat_minor": 5
}
