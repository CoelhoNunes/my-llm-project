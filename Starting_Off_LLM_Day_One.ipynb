{
 "cells": [
  {
   "cell_type": "markdown",
   "id": "71354f64",
   "metadata": {},
   "source": [
    "## Week 1 Progress\n",
    "\n",
    "This week, I completed the first step in building a technical Q&A tool using both the **OpenAI API** and **Ollama**. The purpose of this tool is to take in a technical question and return a clear, well-structured explanation.\n",
    "\n",
    "The current version accepts input via the command line, processes it using language models, and returns a detailed response."
   ]
  },
  {
   "cell_type": "code",
   "execution_count": null,
   "id": "1aafb600",
   "metadata": {},
   "outputs": [],
   "source": [
    "# imports\n",
    " \n",
    "from dotenv import load_dotenv\n",
    "from IPython.display import Markdown, display, update_display\n",
    "from openai import OpenAI\n",
    "import ollama  "
   ]
  },
  {
   "cell_type": "code",
   "execution_count": null,
   "id": "25830c01",
   "metadata": {},
   "outputs": [],
   "source": [
    "# constants adding \n",
    "\n",
    "MODEL_GPT = 'gpt-4o-mini'\n",
    "MODEL_LLAMA = 'llama3.2'"
   ]
  },
  {
   "cell_type": "code",
   "execution_count": 4,
   "id": "de606db8",
   "metadata": {},
   "outputs": [],
   "source": [
    "# set up environment\n",
    "\n",
    "load_dotenv()\n",
    "openai = OpenAI()"
   ]
  },
  {
   "cell_type": "code",
   "execution_count": 5,
   "id": "cad460e0",
   "metadata": {},
   "outputs": [],
   "source": [
    "# Technical question\n",
    "question = \"\"\"\n",
    "What is the difference between shallow and deep copies in Python, and when should each be used?\n",
    "\"\"\""
   ]
  },
  {
   "cell_type": "code",
   "execution_count": 6,
   "id": "78792315",
   "metadata": {},
   "outputs": [],
   "source": [
    "# Define the assistant’s personality and expertise\n",
    "system_prompt = (\n",
    "    \"You are a helpful technical tutor who explains Python, software engineering, \"\n",
    "    \"data science, and LLMs in a clear, detailed, and beginner-friendly way.\"\n",
    ")"
   ]
  },
  {
   "cell_type": "code",
   "execution_count": 7,
   "id": "c6bd68ec",
   "metadata": {},
   "outputs": [],
   "source": [
    "# Construct the user prompt using the question\n",
    "user_prompt = \"Please give a detailed explanation to the following question: \" + question"
   ]
  },
  {
   "cell_type": "code",
   "execution_count": 8,
   "id": "1eaf5d2a",
   "metadata": {},
   "outputs": [],
   "source": [
    "# Package the prompts into the message format expected by the models\n",
    "messages = [\n",
    "    {\"role\": \"system\", \"content\": system_prompt},\n",
    "    {\"role\": \"user\", \"content\": user_prompt}\n",
    "]"
   ]
  },
  {
   "cell_type": "code",
   "execution_count": 9,
   "id": "c1eab8c1",
   "metadata": {},
   "outputs": [
    {
     "data": {
      "text/markdown": [
       "### 🦙 LLaMA 3.2 Says:\n",
       "In Python, there are two primary ways to create copies of data structures: shallow copying and deep copying.\n",
       "\n",
       "**Shallow Copying**\n",
       "\n",
       "A shallow copy creates a new compound object and then (to the extent possible) inserts references into it to the original elements. When you modify a sub-element of the original, the same change will be reflected in the copied structure. This means that if two objects have the same sub-object (e.g., lists or dictionaries), assigning one object to another creates references between them.\n",
       "\n",
       "Here's an example:\n",
       "```python\n",
       "import copy\n",
       "\n",
       "original_list = [[1, 2], [3, 4]]\n",
       "\n",
       "# Shallow copying\n",
       "shallow_copied_list = copy.copy(original_list)\n",
       "\n",
       "# Modifying the original list\n",
       "original_list.append([5, 6])\n",
       "print(shallow_copied_list)  # Output: [[1, 2], [3, 4], [5, 6]]\n",
       "```\n",
       "As you can see, when we modified the original list by appending a new element to it, that change was reflected in the shallow copied structure.\n",
       "\n",
       "**Deep Copying**\n",
       "\n",
       "A deep copy creates a new compound object and then recursively inserts copies into it of the child objects found in the original object. When you modify a sub-element of the original, the same change will not be reflected in the copied structure. This means that if two objects have different sub-objects (e.g., lists or dictionaries), assigning one object to another creates separate structures.\n",
       "\n",
       "Here's an example:\n",
       "```python\n",
       "import copy\n",
       "\n",
       "original_list = [[1, 2], [3, 4]]\n",
       "\n",
       "# Deep copying\n",
       "deep_copied_list = copy.deepcopy(original_list)\n",
       "\n",
       "# Modifying the original list\n",
       "original_list.append([5, 6])\n",
       "print(deep_copied_list)  # Output: [[1, 2], [3, 4]]\n",
       "```\n",
       "In this example, when we modified the original list by appending a new element to it, that change was not reflected in the deep copied structure.\n",
       "\n",
       "**When to Use Each**\n",
       "\n",
       "Here are some general guidelines on when to use shallow copying versus deep copying:\n",
       "\n",
       "* **Shallow Copying:**\n",
       "\t+ When you need to create a copy of an object for reading or displaying purposes.\n",
       "\t+ When you're working with simple data structures, like lists or tuples.\n",
       "\t+ When the original and copied objects don't depend on each other (e.g., no shared references).\n",
       "* **Deep Copying:**\n",
       "\t+ When you need to create a completely independent copy of an object.\n",
       "\t+ When working with complex data structures that involve recursive relationships (e.g., nested lists or dictionaries).\n",
       "\t+ When the original and copied objects should not be modified independently.\n",
       "\n",
       "**Best Practices**\n",
       "\n",
       "To avoid issues with shallow copying, consider the following best practices:\n",
       "\n",
       "* Always use `copy.deepcopy()` when working with complex data structures.\n",
       "* Use `copy.copy()` only for simple data structures, like lists or tuples.\n",
       "* Be aware of shared references between original and copied objects. If two objects share a reference, modifying one will affect the other.\n",
       "\n",
       "By understanding the differences between shallow and deep copying in Python, you can write more robust code that ensures data integrity and avoids unintended modifications to original objects."
      ],
      "text/plain": [
       "<IPython.core.display.Markdown object>"
      ]
     },
     "metadata": {},
     "output_type": "display_data"
    }
   ],
   "source": [
    "# 💬 Get a response from LLaMA 3.2 using Ollama\n",
    "response = ollama.chat(model=MODEL_LLAMA, messages=messages)\n",
    "reply = response['message']['content']\n",
    "display(Markdown(\"### 🦙 LLaMA 3.2 Says:\\n\" + reply))"
   ]
  },
  {
   "cell_type": "code",
   "execution_count": 10,
   "id": "41587188",
   "metadata": {},
   "outputs": [],
   "source": [
    "# 💡 Stream the GPT-4o-mini response in real-time\n",
    "stream = openai.chat.completions.create(\n",
    "    model=MODEL_GPT,\n",
    "    messages=messages,\n",
    "    stream=True\n",
    ")"
   ]
  },
  {
   "cell_type": "code",
   "execution_count": 11,
   "id": "6406f8c1",
   "metadata": {},
   "outputs": [
    {
     "data": {
      "text/markdown": [
       "### 🤖 GPT-4o Responds:\n",
       "In Python, copying data can be more complex than it seems at first, especially when dealing with compound objects like lists, dictionaries, or instances of classes that contain other objects. The distinction between **shallow copies** and **deep copies** is crucial for understanding how changes to copies of objects can impact the originals. Let's dive into each type of copy and when to use them.\n",
       "\n",
       "### Shallow Copies\n",
       "\n",
       "**Definition:**\n",
       "A shallow copy of an object creates a new object, but does not create copies of the objects contained within the original object. Instead, it copies references to those inner objects. This means that if the inner objects are mutable (like lists, dictionaries, etc.), changes made to those inner objects in the shallow copy will also reflect in the original object, because both the original and the shallow copy refer to the same inner objects.\n",
       "\n",
       "**How to Create Shallow Copies:**\n",
       "You can create a shallow copy using various methods:\n",
       "\n",
       "1. **Using the `copy` Module:**\n",
       "   python\n",
       "   import copy\n",
       "   original = [1, 2, [3, 4]]\n",
       "   shallow_copy = copy.copy(original)\n",
       "   \n",
       "\n",
       "2. **Using List Slicing:**\n",
       "   python\n",
       "   original = [1, 2, [3, 4]]\n",
       "   shallow_copy = original[:]  # Works for lists\n",
       "   \n",
       "\n",
       "3. **Using the `list()` Constructor:**\n",
       "   python\n",
       "   original = [1, 2, [3, 4]]\n",
       "   shallow_copy = list(original)\n",
       "   \n",
       "\n",
       "4. **Using Dictionary's `copy()` Method:**\n",
       "   python\n",
       "   original = {'a': 1, 'b': [2, 3]}\n",
       "   shallow_copy = original.copy()  # Works for dictionaries\n",
       "   \n",
       "\n",
       "**Example:**\n",
       "python\n",
       "original = [1, 2, [3, 4]]\n",
       "shallow_copy = copy.copy(original)\n",
       "\n",
       "# Modifying the shallow copy\n",
       "shallow_copy[2][0] = 'changed'\n",
       "\n",
       "print(original)  # Output: [1, 2, ['changed', 4]]\n",
       "print(shallow_copy)  # Output: [1, 2, ['changed', 4]]\n",
       "\n",
       "In this case, modifying `shallow_copy`'s inner list also affects `original`.\n",
       "\n",
       "### Deep Copies\n",
       "\n",
       "**Definition:**\n",
       "A deep copy creates a new object and recursively adds copies of nested objects found in the original, creating independent copies of all objects. This means changes made to the deep copy do not affect the original object (and vice versa) because they are completely separate.\n",
       "\n",
       "**How to Create Deep Copies:**\n",
       "You can create a deep copy using the `copy` module:\n",
       "\n",
       "python\n",
       "import copy\n",
       "original = [1, 2, [3, 4]]\n",
       "deep_copy = copy.deepcopy(original)\n",
       "\n",
       "\n",
       "**Example:**\n",
       "python\n",
       "original = [1, 2, [3, 4]]\n",
       "deep_copy = copy.deepcopy(original)\n",
       "\n",
       "# Modifying the deep copy\n",
       "deep_copy[2][0] = 'changed'\n",
       "\n",
       "print(original)  # Output: [1, 2, [3, 4]]\n",
       "print(deep_copy)  # Output: [1, 2, ['changed', 4]]\n",
       "\n",
       "Here, the inner list of `deep_copy` is a separate copy, so changes do not affect `original`.\n",
       "\n",
       "### When to Use Each\n",
       "\n",
       "- **Use Shallow Copies When:**\n",
       "  - You want to create a copy of an object without needing to duplicate the nested objects.\n",
       "  - You are certain that the mutable objects nested within the original object won't be modified or will be handled carefully.\n",
       "\n",
       "- **Use Deep Copies When:**\n",
       "  - You need complete independence from the original object, especially if you plan to modify nested mutable objects.\n",
       "  - You are working with structures that have substructures and want to ensure that changes do not affect the original data in any way.\n",
       "\n",
       "### Summary\n",
       "\n",
       "In summary, the key difference between shallow and deep copies lies in how they handle nested objects:\n",
       "- **Shallow Copy**: Copies the outer object, but references the same nested objects. Changes to nested objects are reflected in both the original and the copy.\n",
       "- **Deep Copy**: Copies the outer object and all nested objects, re-creating them. Changes to nested objects in the deep copy do not affect the original object.\n",
       "\n",
       "Understanding these distinctions is essential for proper data management and manipulation in Python, particularly in complex structures."
      ],
      "text/plain": [
       "<IPython.core.display.Markdown object>"
      ]
     },
     "metadata": {},
     "output_type": "display_data"
    }
   ],
   "source": [
    "# Accumulate the GPT-4o response as it streams in\n",
    "response_text = \"\"\n",
    "display_handle = display(Markdown(\"### 🤖 GPT-4o Responds:\\n\"), display_id=True)"
   ]
  },
  {
   "cell_type": "code",
   "execution_count": 12,
   "id": "96c6dfed",
   "metadata": {},
   "outputs": [],
   "source": [
    "for chunk in stream:\n",
    "    response_text += chunk.choices[0].delta.content or ''\n",
    "    # Clean up formatting artifacts in live display\n",
    "    response_text = response_text.replace(\"```\", \"\").replace(\"markdown\", \"\")\n",
    "    update_display(Markdown(\"### 🤖 GPT-4o Responds:\\n\" + response_text), display_id=display_handle.display_id)"
   ]
  }
 ],
 "metadata": {
  "kernelspec": {
   "display_name": "Python 3",
   "language": "python",
   "name": "python3"
  },
  "language_info": {
   "codemirror_mode": {
    "name": "ipython",
    "version": 3
   },
   "file_extension": ".py",
   "mimetype": "text/x-python",
   "name": "python",
   "nbconvert_exporter": "python",
   "pygments_lexer": "ipython3",
   "version": "3.11.9"
  }
 },
 "nbformat": 4,
 "nbformat_minor": 5
}
