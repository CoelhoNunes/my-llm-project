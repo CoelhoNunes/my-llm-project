{
 "cells": [
  {
   "cell_type": "markdown",
   "id": "6dae38a0",
   "metadata": {},
   "source": [
    "# Code Generator\n",
    "Using a Frontier model to generate high performance C++ code from Python code"
   ]
  },
  {
   "cell_type": "code",
   "execution_count": null,
   "id": "0cce40b4",
   "metadata": {},
   "outputs": [],
   "source": [
    "# Imports\n",
    "\n",
    "import os\n",
    "import io\n",
    "import sys\n",
    "from dotenv import load_dotenv\n",
    "from openai import OpenAI\n",
    "import google.generativeai\n",
    "import anthropic\n",
    "from IPython.display import Markdown, display, update_display\n",
    "import gradio as gr\n",
    "import subprocess"
   ]
  },
  {
   "cell_type": "code",
   "execution_count": null,
   "id": "558b7abc",
   "metadata": {},
   "outputs": [],
   "source": [
    "# Environment\n",
    "\n",
    "load_dotenv(override=True)\n",
    "os.environ['OPENAI_API_KEY'] = os.getenv('OPENAI_API_KEY', 'your-key-if-not-using-env')\n",
    "os.environ['ANTHROPIC_API_KEY'] = os.getenv('ANTHROPIC_API_KEY', 'your-key-if-not-using-env')"
   ]
  },
  {
   "cell_type": "code",
   "execution_count": null,
   "id": "82bfbd43",
   "metadata": {},
   "outputs": [],
   "source": [
    "# initialize\n",
    "\n",
    "openai = OpenAI()\n",
    "claude = anthropic.Anthropic()\n",
    "OPENAI_MODEL = \"gpt-4o\"\n",
    "CLAUDE_MODEL = \"claude-3-5-sonnet-20240620\"\n"
   ]
  },
  {
   "cell_type": "code",
   "execution_count": null,
   "id": "56efaa60",
   "metadata": {},
   "outputs": [],
   "source": [
    "# Prompt sent to the LLM that powers our tool\n",
    "# It tells the model *exactly* how to behave when translating Python ➜ C++\n",
    "\n",
    "system_message = (\n",
    "    # 1️⃣ Assign the model a role: Windows-focused Python-to-C++ translator\n",
    "    \"You are an assistant specialized in translating Python code into high-performance C++ optimized for Windows systems. \"\n",
    "    # 2️⃣ Require pure C++ output—no prose, so the response can drop straight into a .cpp file\n",
    "    \"Your response must consist solely of C++ code, producing output identical to the original Python version. \"\n",
    "    # 3️⃣ Push for maximum speed: keep comments sparse and purposeful\n",
    "    \"Prioritize execution speed and efficiency, using minimal and purposeful comments. Do not include any explanations or non-code content.\"\n",
    ")\n"
   ]
  },
  {
   "cell_type": "code",
   "execution_count": null,
   "id": "d190c58d",
   "metadata": {},
   "outputs": [],
   "source": [
    "\n",
    "'''\n",
    "Build a single, well-structured prompt that instructs an LLM to translate\n",
    "arbitrary Python snippets into highly optimized, Windows-friendly C++.\n",
    "The function appends the user’s Python code to a fixed instruction header\n",
    "demanding identical output, strict type handling, minimal comments, and\n",
    "the necessary standard headers, then returns the complete prompt string.\n",
    "'''\n",
    "\n",
    "def user_prompt_for(python):\n",
    "    user_prompt = (\n",
    "        \"Convert the following Python code into high-performance C++ optimized for Windows. \"\n",
    "        \"Ensure the C++ implementation produces identical output with maximum execution speed. \"\n",
    "        \"Respond only with C++ code, using minimal but meaningful comments where necessary. \"\n",
    "        \"Be precise with numeric types to prevent integer overflows. \"\n",
    "        \"Include all required standard headers, such as <iostream> and <iomanip>, to ensure the code compiles cleanly.\\n\\n\"\n",
    "    )\n",
    "    user_prompt += python\n",
    "    return user_prompt"
   ]
  },
  {
   "cell_type": "code",
   "execution_count": null,
   "id": "fd799c89",
   "metadata": {},
   "outputs": [],
   "source": [
    "'''\n",
    "Compose the message list expected by the chat API:\n",
    "- System message sets the model’s role/constraints.\n",
    "- User message supplies the generated prompt that embeds the\n",
    "  Python code to be translated into high-performance C++.\n",
    "'''\n",
    "\n",
    "def messages_for(python):\n",
    "    return [\n",
    "        {\"role\": \"system\", \"content\": system_message},\n",
    "        {\"role\": \"user\", \"content\": user_prompt_for(python)}\n",
    "    ]"
   ]
  },
  {
   "cell_type": "code",
   "execution_count": null,
   "id": "56503658",
   "metadata": {},
   "outputs": [],
   "source": [
    "# Write to a file called optimized.cpp\n",
    "\n",
    "def write_output(cpp):\n",
    "    code = cpp.replace(\"```cpp\",\"\").replace(\"```\",\"\")\n",
    "    with open(\"optimized.cpp\", \"w\") as f:\n",
    "        f.write(code)"
   ]
  },
  {
   "cell_type": "code",
   "execution_count": null,
   "id": "d485d005",
   "metadata": {},
   "outputs": [],
   "source": [
    "'''\n",
    "Send the constructed messages to the OpenAI chat API, stream the model’s\n",
    "C++ response in real time, echo each fragment to stdout, and finally save\n",
    "the full reply to disk with write_output().\n",
    "'''\n",
    "\n",
    "def optimize_gpt(python):    \n",
    "    stream = openai.chat.completions.create(model=OPENAI_MODEL, messages=messages_for(python), stream=True)\n",
    "    reply = \"\"\n",
    "    for chunk in stream:\n",
    "        fragment = chunk.choices[0].delta.content or \"\"\n",
    "        reply += fragment\n",
    "        print(fragment, end='', flush=True)\n",
    "    write_output(reply)"
   ]
  },
  {
   "cell_type": "code",
   "execution_count": null,
   "id": "13e8af56",
   "metadata": {},
   "outputs": [],
   "source": [
    "'''\n",
    "Send the Python snippet to Claude, stream back its C++ translation\n",
    "in real time, echo each fragment to the console, then persist the\n",
    "full response to disk via write_output().\n",
    "'''\n",
    "\n",
    "def optimize_claude(python):\n",
    "    result = claude.messages.stream(\n",
    "        model=CLAUDE_MODEL,\n",
    "        max_tokens=2000,\n",
    "        system=system_message,\n",
    "        messages=[{\"role\": \"user\", \"content\": user_prompt_for(python)}],\n",
    "    )\n",
    "    reply = \"\"\n",
    "    with result as stream:\n",
    "        for text in stream.text_stream:\n",
    "            reply += text\n",
    "            print(text, end=\"\", flush=True)\n",
    "    write_output(reply)"
   ]
  },
  {
   "cell_type": "code",
   "execution_count": null,
   "id": "cd59e241",
   "metadata": {},
   "outputs": [],
   "source": [
    "# Creating python code to be looked at by models\n",
    "\n",
    "pi = \"\"\"\n",
    "import time\n",
    "\n",
    "def calculate(iterations, param1, param2):\n",
    "    result = 1.0\n",
    "    for i in range(1, iterations+1):\n",
    "        j = i * param1 - param2\n",
    "        result -= (1/j)\n",
    "        j = i * param1 + param2\n",
    "        result += (1/j)\n",
    "    return result\n",
    "\n",
    "start_time = time.time()\n",
    "result = calculate(100_000_000, 4, 1) * 4\n",
    "end_time = time.time()\n",
    "\n",
    "print(f\"Result: {result:.12f}\")\n",
    "print(f\"Execution Time: {(end_time - start_time):.6f} seconds\")\n",
    "\"\"\""
   ]
  },
  {
   "cell_type": "code",
   "execution_count": null,
   "id": "83cad1db",
   "metadata": {},
   "outputs": [
    {
     "name": "stdout",
     "output_type": "stream",
     "text": [
      "Result: 3.141592658589\n",
      "Execution Time: 7.927061 seconds\n"
     ]
    }
   ],
   "source": [
    "exec(pi)"
   ]
  },
  {
   "cell_type": "code",
   "execution_count": null,
   "id": "f179d14b",
   "metadata": {},
   "outputs": [
    {
     "name": "stdout",
     "output_type": "stream",
     "text": [
      "```cpp\n",
      "#include <iostream>\n",
      "#include <iomanip>\n",
      "#include <chrono>\n",
      "\n",
      "// Function to perform the calculation\n",
      "double calculate(int iterations, int param1, int param2) {\n",
      "    double result = 1.0;\n",
      "    for (int i = 1; i <= iterations; ++i) {\n",
      "        double j1 = static_cast<double>(i * param1 - param2);\n",
      "        result -= 1.0 / j1;\n",
      "        double j2 = static_cast<double>(i * param1 + param2);\n",
      "        result += 1.0 / j2;\n",
      "    }\n",
      "    return result;\n",
      "}\n",
      "\n",
      "int main() {\n",
      "    int iterations = 100000000;\n",
      "    int param1 = 4;\n",
      "    int param2 = 1;\n",
      "\n",
      "    // Timing the execution\n",
      "    auto start_time = std::chrono::high_resolution_clock::now();\n",
      "    double result = calculate(iterations, param1, param2) * 4;\n",
      "    auto end_time = std::chrono::high_resolution_clock::now();\n",
      "\n",
      "    // Calculating execution time\n",
      "    std::chrono::duration<double> elapsed_seconds = end_time - start_time;\n",
      "\n",
      "    // Output results\n",
      "    std::cout << \"Result: \" << std::setprecision(12) << result << std::endl;\n",
      "    std::cout << \"Execution Time: \" << std::fixed << std::setprecision(6) << elapsed_seconds.count() << \" seconds\" << std::endl;\n",
      "\n",
      "    return 0;\n",
      "}\n",
      "```"
     ]
    }
   ],
   "source": [
    "# GPT output of C++\n",
    "\n",
    "optimize_gpt(pi)"
   ]
  },
  {
   "cell_type": "code",
   "execution_count": 15,
   "id": "262163d6",
   "metadata": {},
   "outputs": [
    {
     "name": "stdout",
     "output_type": "stream",
     "text": [
      "Result: 3.141592658589\n",
      "Execution Time: 7.830400 seconds\n"
     ]
    }
   ],
   "source": [
    "exec(pi)"
   ]
  },
  {
   "cell_type": "markdown",
   "id": "472627b7",
   "metadata": {},
   "source": [
    "# Compiling C++ and executing\n",
    "\n",
    "This next cell contains the command to compile a C++ file on my M1 Mac.  \n",
    "It compiles the file `optimized.cpp` into an executable called `optimized`  \n",
    "Then it runs the program called `optimized`"
   ]
  },
  {
   "cell_type": "code",
   "execution_count": null,
   "id": "8dc06834",
   "metadata": {},
   "outputs": [],
   "source": [
    "# Compile C++ and run the executable\n",
    "\n",
    "!g++ -O3 -std=c++17 optimized.cpp -o optimized.exe\n",
    "!optimized.exe"
   ]
  },
  {
   "cell_type": "code",
   "execution_count": null,
   "id": "9f95b3a0",
   "metadata": {},
   "outputs": [
    {
     "name": "stdout",
     "output_type": "stream",
     "text": [
      "#include <iostream>\n",
      "#include <iomanip>\n",
      "#include <chrono>\n",
      "\n",
      "double calculate(int64_t iterations, int64_t param1, int64_t param2) {\n",
      "    double result = 1.0;\n",
      "    for (int64_t i = 1; i <= iterations; ++i) {\n",
      "        int64_t j = i * param1 - param2;\n",
      "        result -= (1.0 / j);\n",
      "        j = i * param1 + param2;\n",
      "        result += (1.0 / j);\n",
      "    }\n",
      "    return result;\n",
      "}\n",
      "\n",
      "int main() {\n",
      "    auto start_time = std::chrono::high_resolution_clock::now();\n",
      "    \n",
      "    double result = calculate(100'000'000, 4, 1) * 4;\n",
      "    \n",
      "    auto end_time = std::chrono::high_resolution_clock::now();\n",
      "    auto duration = std::chrono::duration_cast<std::chrono::microseconds>(end_time - start_time);\n",
      "\n",
      "    std::cout << std::fixed << std::setprecision(12);\n",
      "    std::cout << \"Result: \" << result << std::endl;\n",
      "    std::cout << \"Execution Time: \" << duration.count() / 1e6 << \" seconds\" << std::endl;\n",
      "\n",
      "    return 0;\n",
      "}"
     ]
    }
   ],
   "source": [
    "# Claude output of C++\n",
    "\n",
    "optimize_claude(pi)"
   ]
  },
  {
   "cell_type": "code",
   "execution_count": null,
   "id": "c453000e",
   "metadata": {},
   "outputs": [],
   "source": [
    "# Repeat for Claude - again, use the right approach for your platform\n",
    "\n",
    "!g++ -O3 -std=c++17 optimized.cpp -o optimized.exe\n",
    "!optimized.exe"
   ]
  },
  {
   "cell_type": "code",
   "execution_count": 17,
   "id": "7d7da69f",
   "metadata": {},
   "outputs": [
    {
     "name": "stdout",
     "output_type": "stream",
     "text": [
      "Result: 3.141592658589\n",
      "Execution Time: 10.134040 seconds\n"
     ]
    }
   ],
   "source": [
    "exec(pi)"
   ]
  },
  {
   "cell_type": "code",
   "execution_count": null,
   "id": "28e873c1",
   "metadata": {},
   "outputs": [],
   "source": [
    "# Enhancing python code to be read by models\n",
    "\n",
    "python_hard = \"\"\"# Be careful to support large number sizes\n",
    "\n",
    "def lcg(seed, a=1664525, c=1013904223, m=2**32):\n",
    "    value = seed\n",
    "    while True:\n",
    "        value = (a * value + c) % m\n",
    "        yield value\n",
    "        \n",
    "def max_subarray_sum(n, seed, min_val, max_val):\n",
    "    lcg_gen = lcg(seed)\n",
    "    random_numbers = [next(lcg_gen) % (max_val - min_val + 1) + min_val for _ in range(n)]\n",
    "    max_sum = float('-inf')\n",
    "    for i in range(n):\n",
    "        current_sum = 0\n",
    "        for j in range(i, n):\n",
    "            current_sum += random_numbers[j]\n",
    "            if current_sum > max_sum:\n",
    "                max_sum = current_sum\n",
    "    return max_sum\n",
    "\n",
    "def total_max_subarray_sum(n, initial_seed, min_val, max_val):\n",
    "    total_sum = 0\n",
    "    lcg_gen = lcg(initial_seed)\n",
    "    for _ in range(20):\n",
    "        seed = next(lcg_gen)\n",
    "        total_sum += max_subarray_sum(n, seed, min_val, max_val)\n",
    "    return total_sum\n",
    "\n",
    "# Parameters\n",
    "n = 10000         # Number of random numbers\n",
    "initial_seed = 42 # Initial seed for the LCG\n",
    "min_val = -10     # Minimum value of random numbers\n",
    "max_val = 10      # Maximum value of random numbers\n",
    "\n",
    "# Timing the function\n",
    "import time\n",
    "start_time = time.time()\n",
    "result = total_max_subarray_sum(n, initial_seed, min_val, max_val)\n",
    "end_time = time.time()\n",
    "\n",
    "print(\"Total Maximum Subarray Sum (20 runs):\", result)\n",
    "print(\"Execution Time: {:.6f} seconds\".format(end_time - start_time))\n",
    "\"\"\""
   ]
  },
  {
   "cell_type": "code",
   "execution_count": 19,
   "id": "5f48cf75",
   "metadata": {},
   "outputs": [
    {
     "name": "stdout",
     "output_type": "stream",
     "text": [
      "Total Maximum Subarray Sum (20 runs): 10980\n",
      "Execution Time: 25.417762 seconds\n"
     ]
    }
   ],
   "source": [
    "exec(python_hard)"
   ]
  },
  {
   "cell_type": "code",
   "execution_count": null,
   "id": "cf0758a3",
   "metadata": {},
   "outputs": [
    {
     "name": "stdout",
     "output_type": "stream",
     "text": [
      "```cpp\n",
      "#include <iostream>\n",
      "#include <vector>\n",
      "#include <limits>\n",
      "#include <chrono>\n",
      "\n",
      "uint32_t lcg(uint32_t seed, uint32_t a = 1664525, uint32_t c = 1013904223, uint32_t m = 1u << 31) {\n",
      "    return (a * seed + c) % m;\n",
      "}\n",
      "\n",
      "int64_t max_subarray_sum(int n, uint32_t seed, int min_val, int max_val) {\n",
      "    std::vector<int> random_numbers(n);\n",
      "    for (int i = 0; i < n; ++i) {\n",
      "        seed = lcg(seed);\n",
      "        random_numbers[i] = seed % (max_val - min_val + 1) + min_val;\n",
      "    }\n",
      "\n",
      "    int64_t max_sum = std::numeric_limits<int64_t>::min();\n",
      "    for (int i = 0; i < n; ++i) {\n",
      "        int64_t current_sum = 0;\n",
      "        for (int j = i; j < n; ++j) {\n",
      "            current_sum += random_numbers[j];\n",
      "            if (current_sum > max_sum) {\n",
      "                max_sum = current_sum;\n",
      "            }\n",
      "        }\n",
      "    }\n",
      "    return max_sum;\n",
      "}\n",
      "\n",
      "int64_t total_max_subarray_sum(int n, uint32_t initial_seed, int min_val, int max_val) {\n",
      "    int64_t total_sum = 0;\n",
      "    uint32_t seed = initial_seed;\n",
      "    for (int i = 0; i < 20; ++i) {\n",
      "        seed = lcg(seed);\n",
      "        total_sum += max_subarray_sum(n, seed, min_val, max_val);\n",
      "    }\n",
      "    return total_sum;\n",
      "}\n",
      "\n",
      "int main() {\n",
      "    const int n = 10000;\n",
      "    const uint32_t initial_seed = 42;\n",
      "    const int min_val = -10;\n",
      "    const int max_val = 10;\n",
      "    \n",
      "    auto start = std::chrono::high_resolution_clock::now();\n",
      "    int64_t result = total_max_subarray_sum(n, initial_seed, min_val, max_val);\n",
      "    auto end = std::chrono::high_resolution_clock::now();\n",
      "    std::chrono::duration<double> elapsed = end - start;\n",
      "\n",
      "    std::cout << \"Total Maximum Subarray Sum (20 runs): \" << result << std::endl;\n",
      "    std::cout << \"Execution Time: \" << elapsed.count() << \" seconds\" << std::endl;\n",
      "\n",
      "    return 0;\n",
      "}\n",
      "```"
     ]
    }
   ],
   "source": [
    "# GPT output of C++\n",
    "\n",
    "optimize_gpt(python_hard)"
   ]
  },
  {
   "cell_type": "code",
   "execution_count": null,
   "id": "aa9fd4c1",
   "metadata": {},
   "outputs": [],
   "source": [
    "# Compile C++ and run the executable\n",
    "\n",
    "!g++ -O3 -std=c++17 optimized.cpp -o optimized.exe\n",
    "!optimized.exe"
   ]
  },
  {
   "cell_type": "code",
   "execution_count": null,
   "id": "4983b5bc",
   "metadata": {},
   "outputs": [
    {
     "name": "stdout",
     "output_type": "stream",
     "text": [
      "#include <iostream>\n",
      "#include <vector>\n",
      "#include <limits>\n",
      "#include <chrono>\n",
      "#include <iomanip>\n",
      "\n",
      "using namespace std;\n",
      "using namespace chrono;\n",
      "\n",
      "class LCG {\n",
      "private:\n",
      "    uint64_t value;\n",
      "    const uint64_t a = 1664525;\n",
      "    const uint64_t c = 1013904223;\n",
      "    const uint64_t m = 1ULL << 32;\n",
      "\n",
      "public:\n",
      "    LCG(uint64_t seed) : value(seed) {}\n",
      "\n",
      "    uint64_t next() {\n",
      "        value = (a * value + c) % m;\n",
      "        return value;\n",
      "    }\n",
      "};\n",
      "\n",
      "int64_t max_subarray_sum(int n, uint64_t seed, int min_val, int max_val) {\n",
      "    LCG lcg_gen(seed);\n",
      "    vector<int64_t> random_numbers(n);\n",
      "    for (int i = 0; i < n; ++i) {\n",
      "        random_numbers[i] = lcg_gen.next() % (max_val - min_val + 1) + min_val;\n",
      "    }\n",
      "\n",
      "    int64_t max_sum = numeric_limits<int64_t>::min();\n",
      "    for (int i = 0; i < n; ++i) {\n",
      "        int64_t current_sum = 0;\n",
      "        for (int j = i; j < n; ++j) {\n",
      "            current_sum += random_numbers[j];\n",
      "            max_sum = max(max_sum, current_sum);\n",
      "        }\n",
      "    }\n",
      "    return max_sum;\n",
      "}\n",
      "\n",
      "int64_t total_max_subarray_sum(int n, uint64_t initial_seed, int min_val, int max_val) {\n",
      "    int64_t total_sum = 0;\n",
      "    LCG lcg_gen(initial_seed);\n",
      "    for (int i = 0; i < 20; ++i) {\n",
      "        uint64_t seed = lcg_gen.next();\n",
      "        total_sum += max_subarray_sum(n, seed, min_val, max_val);\n",
      "    }\n",
      "    return total_sum;\n",
      "}\n",
      "\n",
      "int main() {\n",
      "    const int n = 10000;\n",
      "    const uint64_t initial_seed = 42;\n",
      "    const int min_val = -10;\n",
      "    const int max_val = 10;\n",
      "\n",
      "    auto start_time = high_resolution_clock::now();\n",
      "    int64_t result = total_max_subarray_sum(n, initial_seed, min_val, max_val);\n",
      "    auto end_time = high_resolution_clock::now();\n",
      "\n",
      "    auto duration = duration_cast<microseconds>(end_time - start_time);\n",
      "\n",
      "    cout << \"Total Maximum Subarray Sum (20 runs): \" << result << endl;\n",
      "    cout << \"Execution Time: \" << fixed << setprecision(6) << duration.count() / 1e6 << \" seconds\" << endl;\n",
      "\n",
      "    return 0;\n",
      "}"
     ]
    }
   ],
   "source": [
    "# Claude output of C++\n",
    "\n",
    "optimize_claude(python_hard)"
   ]
  },
  {
   "cell_type": "code",
   "execution_count": null,
   "id": "10342c27",
   "metadata": {},
   "outputs": [],
   "source": [
    "# Compile C++ and run the executable\n",
    "\n",
    "!g++ -O3 -std=c++17 optimized.cpp -o optimized.exe\n",
    "!optimized.exe"
   ]
  },
  {
   "cell_type": "code",
   "execution_count": null,
   "id": "698d800c",
   "metadata": {},
   "outputs": [],
   "source": [
    "'''\n",
    "Stream GPT output as incremental chunks: we send the prepared message list\n",
    "to the OpenAI chat endpoint, collect each delta fragment, build the running\n",
    "response, strip Markdown code fences (` ```cpp ` and trailing backticks),\n",
    "and yield the clean C++ text so callers (e.g., a Gradio UI) can display it\n",
    "live while the model is still generating.\n",
    "'''\n",
    "\n",
    "def stream_gpt(python):    \n",
    "    stream = openai.chat.completions.create(model=OPENAI_MODEL, messages=messages_for(python), stream=True)\n",
    "    reply = \"\"\n",
    "    for chunk in stream:\n",
    "        fragment = chunk.choices[0].delta.content or \"\"\n",
    "        reply += fragment\n",
    "        yield reply.replace('```cpp\\n','').replace('```','')"
   ]
  },
  {
   "cell_type": "code",
   "execution_count": null,
   "id": "6b3fcf90",
   "metadata": {},
   "outputs": [],
   "source": [
    "'''\n",
    "Stream Claude’s response in real time: we call the Anthropic chat endpoint\n",
    "with our system directive and user-specific prompt, then iterate over the\n",
    "text stream, building the cumulative reply. Markdown code fences\n",
    "(` ```cpp ... ``` `) are stripped on the fly, and each updated snapshot is\n",
    "yielded so a UI (e.g., Gradio) can render the growing C++ translation live.\n",
    "'''\n",
    "\n",
    "def stream_claude(python):\n",
    "    result = claude.messages.stream(\n",
    "        model=CLAUDE_MODEL,\n",
    "        max_tokens=2000,\n",
    "        system=system_message,\n",
    "        messages=[{\"role\": \"user\", \"content\": user_prompt_for(python)}],\n",
    "    )\n",
    "    reply = \"\"\n",
    "    with result as stream:\n",
    "        for text in stream.text_stream:\n",
    "            reply += text\n",
    "            yield reply.replace('```cpp\\n','').replace('```','')"
   ]
  },
  {
   "cell_type": "code",
   "execution_count": null,
   "id": "d260cd10",
   "metadata": {},
   "outputs": [],
   "source": [
    "'''\n",
    "Dispatch to the proper streaming generator based on the target model\n",
    "(GPT or Claude). The chosen generator yields incremental C++ output;\n",
    "this wrapper forwards each partial string so the caller can stream the\n",
    "translation live. Raises ValueError for unsupported model names.\n",
    "'''\n",
    "\n",
    "def optimize(python, model):\n",
    "    if model==\"GPT\":\n",
    "        result = stream_gpt(python)\n",
    "    elif model==\"Claude\":\n",
    "        result = stream_claude(python)\n",
    "    else:\n",
    "        raise ValueError(\"Unknown model\")\n",
    "    for stream_so_far in result:\n",
    "        yield stream_so_far      "
   ]
  },
  {
   "cell_type": "code",
   "execution_count": null,
   "id": "487a5064",
   "metadata": {},
   "outputs": [
    {
     "name": "stdout",
     "output_type": "stream",
     "text": [
      "* Running on local URL:  http://127.0.0.1:7860\n",
      "* To create a public link, set `share=True` in `launch()`.\n"
     ]
    },
    {
     "data": {
      "text/html": [
       "<div><iframe src=\"http://127.0.0.1:7860/\" width=\"100%\" height=\"500\" allow=\"autoplay; camera; microphone; clipboard-read; clipboard-write;\" frameborder=\"0\" allowfullscreen></iframe></div>"
      ],
      "text/plain": [
       "<IPython.core.display.HTML object>"
      ]
     },
     "metadata": {},
     "output_type": "display_data"
    },
    {
     "data": {
      "text/plain": []
     },
     "execution_count": 25,
     "metadata": {},
     "output_type": "execute_result"
    }
   ],
   "source": [
    "'''\n",
    "Gradio UI: paste Python, pick an LLM (GPT or Claude), and stream back the\n",
    "high-performance C++ translation. The first textbox holds the source Python\n",
    "snippet, the second displays the generated C++, a dropdown selects the model,\n",
    "and the “Convert code” button launches the optimization pipeline. Finally,\n",
    "the interface opens in the browser for interactive use.\n",
    "'''\n",
    "\n",
    "with gr.Blocks() as ui:\n",
    "    with gr.Row():\n",
    "        python = gr.Textbox(label=\"Python code:\", lines=10, value=python_hard)\n",
    "        cpp = gr.Textbox(label=\"C++ code:\", lines=10)\n",
    "    with gr.Row():\n",
    "        model = gr.Dropdown([\"GPT\", \"Claude\"], label=\"Select model\", value=\"GPT\")\n",
    "        convert = gr.Button(\"Convert code\")\n",
    "\n",
    "    convert.click(optimize, inputs=[python, model], outputs=[cpp])\n",
    "\n",
    "ui.launch(inbrowser=True)"
   ]
  },
  {
   "cell_type": "code",
   "execution_count": null,
   "id": "e1e66470",
   "metadata": {},
   "outputs": [],
   "source": [
    "'''\n",
    "Execute an arbitrary Python snippet and return everything it prints.\n",
    "The function redirects sys.stdout to an in-memory StringIO buffer,\n",
    "runs the code via exec(), then restores the original stdout in a\n",
    "finally block to ensure cleanup—even if the user code raises.\n",
    "'''\n",
    "\n",
    "def execute_python(code):\n",
    "    try:\n",
    "        output = io.StringIO()\n",
    "        sys.stdout = output\n",
    "        exec(code)\n",
    "    finally:\n",
    "        sys.stdout = sys.__stdout__\n",
    "    return output.getvalue()"
   ]
  },
  {
   "cell_type": "code",
   "execution_count": null,
   "id": "eea59929",
   "metadata": {},
   "outputs": [],
   "source": [
    "'''\n",
    "Compile and execute C++ code on Windows using MinGW’s g++:\n",
    "1. Save the incoming C++ string to optimized.cpp via write_output().\n",
    "2. Invoke g++ with -Ofast and C++17, emitting optimized.exe.\n",
    "3. If compilation succeeds, run the binary and capture its stdout.\n",
    "4. If either step fails, return the compiler or runtime stderr so the\n",
    "   caller sees the exact error message.\n",
    "'''\n",
    "\n",
    "import subprocess\n",
    "\n",
    "def execute_cpp(code):\n",
    "    write_output(code)  # writes optimized.cpp\n",
    "\n",
    "    try:\n",
    "        compile_cmd = [\n",
    "            \"g++\",\n",
    "            \"-Ofast\",\n",
    "            \"-std=c++17\",\n",
    "            \"optimized.cpp\",\n",
    "            \"-o\",\n",
    "            \"optimized.exe\"\n",
    "        ]\n",
    "        compile_result = subprocess.run(\n",
    "            compile_cmd,\n",
    "            check=True,\n",
    "            text=True,\n",
    "            capture_output=True\n",
    "        )\n",
    "\n",
    "        run_cmd = [\"optimized.exe\"]\n",
    "        run_result = subprocess.run(\n",
    "            run_cmd,\n",
    "            check=True,\n",
    "            text=True,\n",
    "            capture_output=True\n",
    "        )\n",
    "        return run_result.stdout\n",
    "\n",
    "    except subprocess.CalledProcessError as e:\n",
    "        return e.stderr\n"
   ]
  },
  {
   "cell_type": "code",
   "execution_count": null,
   "id": "5b621987",
   "metadata": {},
   "outputs": [],
   "source": [
    "'''\n",
    "CSS theme: give Python code blocks a Python-blue background (#306998)\n",
    "and C++ blocks a dark-green background (#050).\n",
    "'''\n",
    "\n",
    "css = \"\"\"\n",
    ".python {background-color: #306998;}\n",
    ".cpp {background-color: #050;}\n",
    "\"\"\""
   ]
  },
  {
   "cell_type": "code",
   "execution_count": null,
   "id": "bc064ade",
   "metadata": {},
   "outputs": [
    {
     "data": {
      "text/html": [
       "<div><iframe src=\"http://127.0.0.1:7862/\" width=\"100%\" height=\"500\" allow=\"autoplay; camera; microphone; clipboard-read; clipboard-write;\" frameborder=\"0\" allowfullscreen></iframe></div>"
      ],
      "text/plain": [
       "<IPython.core.display.HTML object>"
      ]
     },
     "metadata": {},
     "output_type": "display_data"
    },
    {
     "data": {
      "text/plain": []
     },
     "execution_count": 35,
     "metadata": {},
     "output_type": "execute_result"
    }
   ],
   "source": [
    "'''\n",
    "Gradio interface for live Python ➜ C++ conversion and execution.\n",
    "\n",
    "Layout\n",
    "• Markdown header for context.\n",
    "• First row: side-by-side textboxes—editable Python (prefilled) and generated C++.\n",
    "• Second row: model selector (GPT or Claude).\n",
    "• Third row: “Convert code” triggers the LLM translation.\n",
    "• Fourth row: “Run Python” and “Run C++” buttons execute code in-browser.\n",
    "• Fifth row: color-themed text areas show stdout from each run.\n",
    "\n",
    "Custom CSS (python / cpp classes) colors the result panes.\n",
    "'''\n",
    "\n",
    "with gr.Blocks(css=css) as ui:\n",
    "    gr.Markdown(\"## Convert code from Python to C++\")\n",
    "    with gr.Row():\n",
    "        python = gr.Textbox(label=\"Python code:\", value=python_hard, lines=10)\n",
    "        cpp = gr.Textbox(label=\"C++ code:\", lines=10)\n",
    "    with gr.Row():\n",
    "        model = gr.Dropdown([\"GPT\", \"Claude\"], label=\"Select model\", value=\"GPT\")\n",
    "    with gr.Row():\n",
    "        convert = gr.Button(\"Convert code\")\n",
    "    with gr.Row():\n",
    "        python_run = gr.Button(\"Run Python\")\n",
    "        cpp_run = gr.Button(\"Run C++\")\n",
    "    with gr.Row():\n",
    "        python_out = gr.TextArea(label=\"Python result:\", elem_classes=[\"python\"])\n",
    "        cpp_out = gr.TextArea(label=\"C++ result:\", elem_classes=[\"cpp\"])\n",
    "\n",
    "    convert.click(optimize, inputs=[python, model], outputs=[cpp])\n",
    "    python_run.click(execute_python, inputs=[python], outputs=[python_out])\n",
    "    cpp_run.click(execute_cpp, inputs=[cpp], outputs=[cpp_out])\n",
    "\n",
    "ui.launch(inbrowser=True)"
   ]
  }
 ],
 "metadata": {
  "kernelspec": {
   "display_name": "Python 3",
   "language": "python",
   "name": "python3"
  },
  "language_info": {
   "codemirror_mode": {
    "name": "ipython",
    "version": 3
   },
   "file_extension": ".py",
   "mimetype": "text/x-python",
   "name": "python",
   "nbconvert_exporter": "python",
   "pygments_lexer": "ipython3",
   "version": "3.11.9"
  }
 },
 "nbformat": 4,
 "nbformat_minor": 5
}
