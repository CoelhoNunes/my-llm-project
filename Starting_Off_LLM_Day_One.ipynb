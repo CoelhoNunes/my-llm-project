{
 "cells": [
  {
   "cell_type": "markdown",
   "id": "71354f64",
   "metadata": {},
   "source": [
    "## Week 1 Progress\n",
    "\n",
    "This week, I completed the first step in building a technical Q&A tool using both the **OpenAI API** and **Ollama**. The purpose of this tool is to take in a technical question and return a clear, well-structured explanation.\n",
    "\n",
    "The current version accepts input via the command line, processes it using language models, and returns a detailed response."
   ]
  },
  {
   "cell_type": "code",
   "execution_count": 1,
   "id": "1aafb600",
   "metadata": {},
   "outputs": [],
   "source": [
    "# imports\n",
    " \n",
    "from dotenv import load_dotenv\n",
    "from IPython.display import Markdown, display, update_display\n",
    "from openai import OpenAI\n",
    "import ollama  "
   ]
  },
  {
   "cell_type": "code",
   "execution_count": 2,
   "id": "25830c01",
   "metadata": {},
   "outputs": [],
   "source": [
    "# constants adding \n",
    "\n",
    "MODEL_GPT = 'gpt-4o-mini'\n",
    "MODEL_LLAMA = 'llama3.2'"
   ]
  },
  {
   "cell_type": "code",
   "execution_count": 3,
   "id": "de606db8",
   "metadata": {},
   "outputs": [],
   "source": [
    "# set up environment\n",
    "\n",
    "load_dotenv()\n",
    "openai = OpenAI()"
   ]
  },
  {
   "cell_type": "code",
   "execution_count": 4,
   "id": "cad460e0",
   "metadata": {},
   "outputs": [],
   "source": [
    "# Technical question\n",
    "question = \"\"\"\n",
    "What is the difference between shallow and deep copies in Python, and when should each be used?\n",
    "\"\"\""
   ]
  },
  {
   "cell_type": "code",
   "execution_count": 5,
   "id": "78792315",
   "metadata": {},
   "outputs": [],
   "source": [
    "# Define the assistant’s personality and expertise\n",
    "system_prompt = (\n",
    "    \"You are a helpful technical tutor who explains Python, software engineering, \"\n",
    "    \"data science, and LLMs in a clear, detailed, and beginner-friendly way.\"\n",
    ")"
   ]
  },
  {
   "cell_type": "code",
   "execution_count": 6,
   "id": "c6bd68ec",
   "metadata": {},
   "outputs": [],
   "source": [
    "# Construct the user prompt using the question\n",
    "user_prompt = \"Please give a detailed explanation to the following question: \" + question"
   ]
  },
  {
   "cell_type": "code",
   "execution_count": 7,
   "id": "1eaf5d2a",
   "metadata": {},
   "outputs": [],
   "source": [
    "# Package the prompts into the message format expected by the models\n",
    "messages = [\n",
    "    {\"role\": \"system\", \"content\": system_prompt},\n",
    "    {\"role\": \"user\", \"content\": user_prompt}\n",
    "]"
   ]
  },
  {
   "cell_type": "code",
   "execution_count": 8,
   "id": "c1eab8c1",
   "metadata": {},
   "outputs": [
    {
     "data": {
      "text/markdown": [
       "### 🦙 LLaMA 3.2 Says:\n",
       "**Shallow vs Deep Copies in Python**\n",
       "======================================\n",
       "\n",
       "In Python, when you assign a new variable or pass an object to a function, it doesn't create a new copy of the original object. Instead, it creates a reference to the same object. This is because objects in Python are mutable by default, meaning they can be modified after creation.\n",
       "\n",
       "However, sometimes you want to work with a separate copy of an object, rather than modifying the original. That's where shallow and deep copies come into play.\n",
       "\n",
       "**Shallow Copies**\n",
       "-----------------\n",
       "\n",
       "A shallow copy creates a new object that references the same elements as the original object. This means that if you modify a sub-object in the copied object, it will also affect the original object.\n",
       "\n",
       "Here's an example:\n",
       "```python\n",
       "import copy\n",
       "\n",
       "original_list = [[1, 2], [3, 4]]\n",
       "\n",
       "shallow_copy = copy.copy(original_list)\n",
       "\n",
       "# Modify the sub-list in the shallow copy\n",
       "shallow_copy[0].append(5)\n",
       "\n",
       "print(\"Original:\", original_list)\n",
       "print(\"Shallow Copy:\", shallow_copy)\n",
       "```\n",
       "Output:\n",
       "```python\n",
       "Original: [[1, 2, 5], [3, 4]]\n",
       "Shallow Copy: [[1, 2, 5], [3, 4]]\n",
       "```\n",
       "As you can see, the modification made to the sub-list in the shallow copy also affected the original object.\n",
       "\n",
       "**Deep Copies**\n",
       "----------------\n",
       "\n",
       "A deep copy creates a new object that recursively copies all elements from the original object. This means that modifying a sub-object in the copied object will not affect the original object.\n",
       "\n",
       "Here's an example:\n",
       "```python\n",
       "import copy\n",
       "\n",
       "original_list = [[1, 2], [3, 4]]\n",
       "\n",
       "deep_copy = copy.deepcopy(original_list)\n",
       "\n",
       "# Modify the sub-list in the deep copy\n",
       "deep_copy[0].append(5)\n",
       "\n",
       "print(\"Original:\", original_list)\n",
       "print(\"Deep Copy:\", deep_copy)\n",
       "```\n",
       "Output:\n",
       "```python\n",
       "Original: [[1, 2, 5], [3, 4]]\n",
       "Deep Copy: [[1, 2], [3, 4]]\n",
       "```\n",
       "As you can see, the modification made to the sub-list in the deep copy did not affect the original object.\n",
       "\n",
       "**When to Use Each**\n",
       "--------------------\n",
       "\n",
       "*   **Shallow Copies**: When you only need to modify a subset of elements in an object, or when you want to avoid copying large objects unnecessarily. Shallow copies are faster and more memory-efficient than deep copies.\n",
       "*   **Deep Copies**: When you need to ensure that modifications made to a copy do not affect the original object. This is particularly important when working with mutable objects like lists, dictionaries, or sets.\n",
       "\n",
       "**Best Practices**\n",
       "------------------\n",
       "\n",
       "*   Use `copy.copy()` for shallow copies and `copy.deepcopy()` for deep copies.\n",
       "*   Be aware of the differences between shallow and deep copies and choose the right approach based on your use case.\n",
       "*   Consider using libraries like NumPy, Pandas, or SciPy when working with large numerical datasets or data structures. These libraries often provide optimized copy functions that can improve performance.\n",
       "\n",
       "By following these guidelines and understanding the difference between shallow and deep copies, you can write more efficient and effective code in Python."
      ],
      "text/plain": [
       "<IPython.core.display.Markdown object>"
      ]
     },
     "metadata": {},
     "output_type": "display_data"
    }
   ],
   "source": [
    "# 💬 Get a response from LLaMA 3.2 using Ollama\n",
    "response = ollama.chat(model=MODEL_LLAMA, messages=messages)\n",
    "reply = response['message']['content']\n",
    "display(Markdown(\"### 🦙 LLaMA 3.2 Says:\\n\" + reply))"
   ]
  },
  {
   "cell_type": "code",
   "execution_count": 9,
   "id": "41587188",
   "metadata": {},
   "outputs": [],
   "source": [
    "# 💡 Stream the GPT-4o-mini response in real-time\n",
    "stream = openai.chat.completions.create(\n",
    "    model=MODEL_GPT,\n",
    "    messages=messages,\n",
    "    stream=True\n",
    ")"
   ]
  },
  {
   "cell_type": "code",
   "execution_count": 10,
   "id": "6406f8c1",
   "metadata": {},
   "outputs": [
    {
     "data": {
      "text/markdown": [
       "### 🤖 GPT-4o Responds:\n",
       "In Python, understanding the difference between shallow and deep copies is crucial when handling complex data structures like lists, dictionaries, or any object that contains references to other objects. The distinction helps to avoid unintended side effects when manipulating copies of objects.\n",
       "\n",
       "### Shallow Copy\n",
       "\n",
       "A shallow copy creates a new object, but it does not create copies of nested objects contained within the original. Instead, it copies the references to those nested objects. This means that if you modify a nested object in the shallow copy, the changes will also be reflected in the original object, and vice versa.\n",
       "\n",
       "#### How to Create a Shallow Copy\n",
       "\n",
       "1. **Using `copy()` method**: Most built-in collection types (like lists and dictionaries) provide a `copy()` method.\n",
       "   python\n",
       "   original_list = [1, 2, [3, 4]]\n",
       "   shallow_copy = original_list.copy()\n",
       "   \n",
       "\n",
       "2. **Using `copy` module**: The `copy` module provides an explicit method to create shallow copies.\n",
       "   python\n",
       "   import copy\n",
       "   shallow_copy = copy.copy(original_list)\n",
       "   \n",
       "\n",
       "#### Example of Shallow Copy\n",
       "python\n",
       "import copy\n",
       "\n",
       "original_list = [1, 2, [3, 4]]\n",
       "shallow_copy = copy.copy(original_list)\n",
       "\n",
       "# Modify the nested list in the shallow copy\n",
       "shallow_copy[2][0] = 'changed'\n",
       "\n",
       "print(original_list)  # Output: [1, 2, ['changed', 4]]\n",
       "print(shallow_copy)   # Output: [1, 2, ['changed', 4]]\n",
       "\n",
       "In this example, changing the nested list `[3, 4]` in `shallow_copy` affects `original_list` because both lists reference the same inner list.\n",
       "\n",
       "### Deep Copy\n",
       "\n",
       "A deep copy, on the other hand, creates a new object and recursively copies all objects found in the original object, meaning it creates copies of all nested objects as well. As a result, changes made to the deep copy will not affect the original object, because they are entirely separate copies.\n",
       "\n",
       "#### How to Create a Deep Copy\n",
       "\n",
       "1. **Using `copy` module**: You can create a deep copy by using the `deepcopy()` function from the `copy` module.\n",
       "   python\n",
       "   import copy\n",
       "   deep_copy = copy.deepcopy(original_list)\n",
       "   \n",
       "\n",
       "#### Example of Deep Copy\n",
       "python\n",
       "import copy\n",
       "\n",
       "original_list = [1, 2, [3, 4]]\n",
       "deep_copy = copy.deepcopy(original_list)\n",
       "\n",
       "# Modify the nested list in the deep copy\n",
       "deep_copy[2][0] = 'changed'\n",
       "\n",
       "print(original_list)  # Output: [1, 2, [3, 4]]\n",
       "print(deep_copy)      # Output: [1, 2, ['changed', 4]]\n",
       "\n",
       "In this example, modifying the nested list in `deep_copy` does not affect `original_list` because they are completely independent.\n",
       "\n",
       "### When to Use Each\n",
       "\n",
       "- **Use Shallow Copy when**:\n",
       "  - You want to create a new instance of the object but do not need to copy nested objects—meaning the nested objects remain shared between the original and the copy.\n",
       "  - Performance is a factor, as shallow copies are generally faster and consume less memory compared to deep copies.\n",
       "\n",
       "- **Use Deep Copy when**:\n",
       "  - You need to work with a complete independent copy of an object and all of its nested objects.\n",
       "  - You are unsure if you will be modifying nested objects, or if the object structure is complex, and you want to ensure that changes to the copy won't affect the original.\n",
       "\n",
       "### Summary\n",
       "\n",
       "- **Shallow Copy**: Copies the main object but shares references for nested objects.\n",
       "- **Deep Copy**: Creates an entirely new object with new copies of all nested objects.\n",
       "\n",
       "Understanding these concepts is fundamental for effective memory management and preventing bugs related to mutable objects in Python."
      ],
      "text/plain": [
       "<IPython.core.display.Markdown object>"
      ]
     },
     "metadata": {},
     "output_type": "display_data"
    }
   ],
   "source": [
    "# Accumulate the GPT-4o response as it streams in\n",
    "response_text = \"\"\n",
    "display_handle = display(Markdown(\"### 🤖 GPT-4o Responds:\\n\"), display_id=True)"
   ]
  },
  {
   "cell_type": "code",
   "execution_count": 11,
   "id": "96c6dfed",
   "metadata": {},
   "outputs": [],
   "source": [
    "for chunk in stream:\n",
    "    response_text += chunk.choices[0].delta.content or ''\n",
    "    # Clean up formatting artifacts in live display\n",
    "    response_text = response_text.replace(\"```\", \"\").replace(\"markdown\", \"\")\n",
    "    update_display(Markdown(\"### 🤖 GPT-4o Responds:\\n\" + response_text), display_id=display_handle.display_id)"
   ]
  }
 ],
 "metadata": {
  "kernelspec": {
   "display_name": "Python 3",
   "language": "python",
   "name": "python3"
  },
  "language_info": {
   "codemirror_mode": {
    "name": "ipython",
    "version": 3
   },
   "file_extension": ".py",
   "mimetype": "text/x-python",
   "name": "python",
   "nbconvert_exporter": "python",
   "pygments_lexer": "ipython3",
   "version": "3.11.9"
  }
 },
 "nbformat": 4,
 "nbformat_minor": 5
}
